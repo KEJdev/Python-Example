{
 "cells": [
  {
   "cell_type": "markdown",
   "metadata": {},
   "source": [
    "[[0,0,0,0,0],  \n",
    "[0,0,1,0,3],  \n",
    "[0,2,5,0,1],  \n",
    "[4,2,4,4,2],  \n",
    "[3,5,1,3,1]]    \n",
    "\n",
    "[1,5,3,5,1,2,1,4]  \n",
    "4"
   ]
  },
  {
   "cell_type": "markdown",
   "metadata": {},
   "source": [
    "4,3,1,1,3,2,3,4  \n",
    "4,3,3,2,3,4  \n",
    "4,2,3,4"
   ]
  },
  {
   "cell_type": "code",
   "execution_count": 249,
   "metadata": {},
   "outputs": [],
   "source": [
    "board = [[0,0,0,0,0],[0,0,1,0,3],[0,2,5,0,1],[4,2,4,4,2],[3,5,1,3,1]]\n",
    "moves = [1,5,3,5,1,2,1,4]"
   ]
  },
  {
   "cell_type": "code",
   "execution_count": 303,
   "metadata": {},
   "outputs": [
    {
     "name": "stdout",
     "output_type": "stream",
     "text": [
      "[4, 3, 1, 1, 3, 2, 4]\n"
     ]
    }
   ],
   "source": [
    "def solution(board, moves):\n",
    "    bucket = []\n",
    "    ans = 0\n",
    "    idx = -1\n",
    "\n",
    "    for move in moves:\n",
    "        for i in range(len(board)):\n",
    "            if board[i][move - 1] > 0:\n",
    "                idx = board[i][move - 1]\n",
    "                board[i][move - 1] = 0\n",
    "                if len(bucket) > 0 and bucket[-1] == idx:\n",
    "                    ans += 2\n",
    "                    bucket.pop()\n",
    "                else:\n",
    "                    bucket.append(idx)\n",
    "                break\n",
    "\n",
    "    return ans"
   ]
  },
  {
   "cell_type": "code",
   "execution_count": null,
   "metadata": {},
   "outputs": [],
   "source": []
  }
 ],
 "metadata": {
  "kernelspec": {
   "display_name": "Python 3",
   "language": "python",
   "name": "python3"
  },
  "language_info": {
   "codemirror_mode": {
    "name": "ipython",
    "version": 3
   },
   "file_extension": ".py",
   "mimetype": "text/x-python",
   "name": "python",
   "nbconvert_exporter": "python",
   "pygments_lexer": "ipython3",
   "version": "3.7.3"
  }
 },
 "nbformat": 4,
 "nbformat_minor": 2
}
