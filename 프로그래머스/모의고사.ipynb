{
 "cells": [
  {
   "cell_type": "markdown",
   "metadata": {},
   "source": [
    "* [문제 링크](https://programmers.co.kr/learn/courses/30/lessons/42840?language=python3)\n",
    "\n",
    "[1,2,3,4,5]  \n",
    "[1]"
   ]
  },
  {
   "cell_type": "code",
   "execution_count": 45,
   "metadata": {},
   "outputs": [],
   "source": [
    "def solution(answers):\n",
    "\n",
    "    num1 = [1, 2, 3, 4, 5]\n",
    "    num2 = [2, 1, 2, 3, 2, 4, 2, 5]\n",
    "    num3 = [3, 3, 1, 1, 2, 2, 4, 4, 5, 5]\n",
    "\n",
    "    cnt1 = 0\n",
    "    cnt2 = 0\n",
    "    cnt3 = 0\n",
    "\n",
    "    for i in range(len(answers)):\n",
    "        if answers[i] == num1[i%len(num1)]:\n",
    "            cnt1 += 1\n",
    "        if answers[i] == num2[i%len(num2)]:\n",
    "            cnt2 += 1\n",
    "        if answers[i] == num3[i%len(num3)]:\n",
    "            cnt3 += 1\n",
    "\n",
    "    answer = []\n",
    "    for i,j in enumerate([cnt1, cnt2 , cnt3]):\n",
    "        if max([cnt1, cnt2 , cnt3 ]) == j:\n",
    "            answer.append(i+1)        \n",
    "    return answer"
   ]
  }
 ],
 "metadata": {
  "kernelspec": {
   "display_name": "Python 3",
   "language": "python",
   "name": "python3"
  },
  "language_info": {
   "codemirror_mode": {
    "name": "ipython",
    "version": 3
   },
   "file_extension": ".py",
   "mimetype": "text/x-python",
   "name": "python",
   "nbconvert_exporter": "python",
   "pygments_lexer": "ipython3",
   "version": "3.7.3"
  }
 },
 "nbformat": 4,
 "nbformat_minor": 2
}
