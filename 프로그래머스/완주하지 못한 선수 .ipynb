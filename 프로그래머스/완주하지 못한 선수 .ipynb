{
 "cells": [
  {
   "cell_type": "markdown",
   "metadata": {},
   "source": [
    "[leo, kiki, eden]  \n",
    "[eden, kiki]\n",
    "\n",
    "return -> leo"
   ]
  },
  {
   "cell_type": "code",
   "execution_count": 2,
   "metadata": {},
   "outputs": [],
   "source": [
    "participant = [\"marina\", \"josipa\", \"nikola\",\"nikola\" , \"filipa\"]\n",
    "completion = [\"josipa\", \"filipa\", \"marina\", \"nikola\"]"
   ]
  },
  {
   "cell_type": "code",
   "execution_count": 220,
   "metadata": {},
   "outputs": [],
   "source": [
    "def solution(participant, completion):\n",
    "    find_val, find_val2 = {},{}\n",
    "\n",
    "    for j,i  in zip(participant,completion):\n",
    "        count = find_val.get(j,0)\n",
    "        find_val[j] = count + 1\n",
    "        count = find_val2.get(i,0)\n",
    "        find_val2[i] = count + 1\n",
    "    \n",
    "    for key in find_val:\n",
    "        try:\n",
    "            if find_val[key] != find_val2[key]:\n",
    "                answer = key\n",
    "        except KeyError:\n",
    "            answer = key\n",
    "    return answer"
   ]
  },
  {
   "cell_type": "markdown",
   "metadata": {},
   "source": [
    "#### 다른 사람 풀이 Best"
   ]
  },
  {
   "cell_type": "code",
   "execution_count": 3,
   "metadata": {},
   "outputs": [
    {
     "data": {
      "text/plain": [
       "Counter({'nikola': 1})"
      ]
     },
     "execution_count": 3,
     "metadata": {},
     "output_type": "execute_result"
    }
   ],
   "source": [
    "import collections\n",
    "collections.Counter(participant) - collections.Counter(completion)"
   ]
  }
 ],
 "metadata": {
  "kernelspec": {
   "display_name": "Python 3",
   "language": "python",
   "name": "python3"
  },
  "language_info": {
   "codemirror_mode": {
    "name": "ipython",
    "version": 3
   },
   "file_extension": ".py",
   "mimetype": "text/x-python",
   "name": "python",
   "nbconvert_exporter": "python",
   "pygments_lexer": "ipython3",
   "version": "3.7.3"
  }
 },
 "nbformat": 4,
 "nbformat_minor": 2
}
