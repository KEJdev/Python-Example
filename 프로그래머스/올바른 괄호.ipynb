{
 "cells": [
  {
   "cell_type": "markdown",
   "id": "617cafc5",
   "metadata": {},
   "source": [
    "* [문제 링크](https://school.programmers.co.kr/learn/courses/30/lessons/12909)"
   ]
  },
  {
   "cell_type": "code",
   "execution_count": 81,
   "id": "627e32dc",
   "metadata": {},
   "outputs": [],
   "source": [
    "s = \"()()\""
   ]
  },
  {
   "cell_type": "code",
   "execution_count": 77,
   "id": "0ac0c980",
   "metadata": {},
   "outputs": [],
   "source": [
    "def solution(s):\n",
    "    if s[0] == \")\" or s[-1] ==\"(\":\n",
    "        return False\n",
    "    result = []\n",
    "    for val in s:\n",
    "        result.append(val)\n",
    "        if result[-2:] == ['(',')']: \n",
    "            del result[-2:]\n",
    "\n",
    "    if result == []:\n",
    "        return True\n",
    "    else:\n",
    "        return False"
   ]
  }
 ],
 "metadata": {
  "kernelspec": {
   "display_name": "Python 3",
   "language": "python",
   "name": "python3"
  },
  "language_info": {
   "codemirror_mode": {
    "name": "ipython",
    "version": 3
   },
   "file_extension": ".py",
   "mimetype": "text/x-python",
   "name": "python",
   "nbconvert_exporter": "python",
   "pygments_lexer": "ipython3",
   "version": "3.9.1"
  }
 },
 "nbformat": 4,
 "nbformat_minor": 5
}
