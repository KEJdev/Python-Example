{
 "cells": [
  {
   "cell_type": "markdown",
   "id": "ea939924",
   "metadata": {},
   "source": [
    "* [문제 링크](https://programmers.co.kr/learn/courses/30/lessons/42583)"
   ]
  },
  {
   "cell_type": "code",
   "execution_count": 2,
   "id": "b20d199a",
   "metadata": {},
   "outputs": [],
   "source": [
    "from collections import deque"
   ]
  },
  {
   "cell_type": "code",
   "execution_count": 51,
   "id": "60570631",
   "metadata": {},
   "outputs": [],
   "source": [
    "bridge_length = 2\n",
    "weight = 10\n",
    "truck_weights = [7,4,5,6]"
   ]
  },
  {
   "cell_type": "code",
   "execution_count": 34,
   "id": "995b47b0",
   "metadata": {},
   "outputs": [],
   "source": [
    "bridge_length = 5\n",
    "weight = 5\n",
    "truck_weights = [2, 2, 2, 2, 1, 1, 1, 1, 1]"
   ]
  },
  {
   "cell_type": "code",
   "execution_count": 326,
   "id": "723770f6",
   "metadata": {},
   "outputs": [],
   "source": [
    "bridge_length = 100\n",
    "weight = 100\n",
    "truck_weights = [10] "
   ]
  },
  {
   "cell_type": "code",
   "execution_count": 328,
   "id": "f9bd94ad",
   "metadata": {},
   "outputs": [],
   "source": [
    "bridge_length = 100\n",
    "weight = 100\n",
    "truck_weights = [10,10,10,10,10,10,10,10,10,10] "
   ]
  },
  {
   "cell_type": "code",
   "execution_count": 181,
   "id": "1cf266e0",
   "metadata": {},
   "outputs": [],
   "source": [
    "from collections import deque\n",
    "\n",
    "def solution(bridge_length, weight, truck_weights):\n",
    "    bridge = deque([0]*bridge_length)\n",
    "    temp,answer = 0,0\n",
    "\n",
    "    while bridge:\n",
    "        answer += 1\n",
    "        if bridge[0] != 0:\n",
    "            temp -= bridge[0]\n",
    "        bridge.popleft()\n",
    "\n",
    "        if truck_weights:\n",
    "            if temp+truck_weights[0] <= weight:\n",
    "                temp += truck_weights[0]\n",
    "                bridge.append(truck_weights.pop(0))\n",
    "            else:\n",
    "                bridge.append(0) \n",
    "    return answer"
   ]
  },
  {
   "cell_type": "code",
   "execution_count": null,
   "id": "42cdaaf7",
   "metadata": {},
   "outputs": [],
   "source": []
  },
  {
   "cell_type": "code",
   "execution_count": null,
   "id": "6d96386d",
   "metadata": {},
   "outputs": [],
   "source": []
  },
  {
   "cell_type": "code",
   "execution_count": null,
   "id": "66a15427",
   "metadata": {},
   "outputs": [],
   "source": []
  },
  {
   "cell_type": "code",
   "execution_count": null,
   "id": "4a2a3849",
   "metadata": {},
   "outputs": [],
   "source": []
  }
 ],
 "metadata": {
  "kernelspec": {
   "display_name": "Python 3",
   "language": "python",
   "name": "python3"
  },
  "language_info": {
   "codemirror_mode": {
    "name": "ipython",
    "version": 3
   },
   "file_extension": ".py",
   "mimetype": "text/x-python",
   "name": "python",
   "nbconvert_exporter": "python",
   "pygments_lexer": "ipython3",
   "version": "3.9.1"
  }
 },
 "nbformat": 4,
 "nbformat_minor": 5
}
