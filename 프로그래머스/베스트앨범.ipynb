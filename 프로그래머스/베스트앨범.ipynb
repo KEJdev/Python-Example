{
 "cells": [
  {
   "cell_type": "markdown",
   "metadata": {},
   "source": [
    "프로그래머스 - [베스트 앨범](https://programmers.co.kr/learn/courses/30/lessons/42579)"
   ]
  },
  {
   "cell_type": "code",
   "execution_count": 42,
   "metadata": {},
   "outputs": [],
   "source": [
    "genres = [\"classic\", \"pop\", \"classic\", \"classic\", \"pop\"]\n",
    "plays = [500, 600, 150, 800, 2500]\n",
    "result = [4, 1, 3, 0]"
   ]
  },
  {
   "cell_type": "code",
   "execution_count": 3,
   "metadata": {},
   "outputs": [
    {
     "data": {
      "text/plain": [
       "[4, 5, 1, 3]"
      ]
     },
     "execution_count": 3,
     "metadata": {},
     "output_type": "execute_result"
    }
   ],
   "source": [
    "genres = [\"classic\", \"pop\", \"classic\", \"pop\", \"classic\", \"classic\"]\n",
    "plays = [400, 600, 150, 600, 500, 500]\n",
    "[4, 5, 1, 3]"
   ]
  },
  {
   "cell_type": "code",
   "execution_count": null,
   "metadata": {},
   "outputs": [],
   "source": [
    "def solution(genres, plays):\n",
    "    temp,temp_index = {},{}\n",
    "    answer = []\n",
    "\n",
    "    for val, key in zip(plays, genres):\n",
    "        if temp.get(key):\n",
    "            temp[key].append(val)\n",
    "        else:\n",
    "            temp[key] = [val]\n",
    "\n",
    "    sort_temp = dict(sorted(temp.items(), key = lambda item: sum(item[1]), reverse=True))\n",
    "\n",
    "    for k in sort_temp:\n",
    "        df_val = sorted(sort_temp[k], reverse=True)\n",
    "        if len(sort_temp[key]) >= 2:\n",
    "            sort_temp[k] = df_val[:2]\n",
    "\n",
    "    for key in set(genres):\n",
    "        temp_index[key] = [i for i, ele in enumerate(genres) if ele == key]\n",
    "\n",
    "    for k in sort_temp:\n",
    "        for v1, v2 in zip(sort_temp[k], temp_index[k]):\n",
    "            if len(sort_temp[k]) != len(set(sort_temp[k])):\n",
    "                df = [i for i, ele in enumerate(plays) if ele == v1]\n",
    "                answer.extend(df)\n",
    "                break\n",
    "            else:\n",
    "                answer.append(plays.index(v1))\n",
    "    return answer"
   ]
  },
  {
   "cell_type": "code",
   "execution_count": null,
   "metadata": {},
   "outputs": [],
   "source": []
  },
  {
   "cell_type": "code",
   "execution_count": null,
   "metadata": {},
   "outputs": [],
   "source": []
  },
  {
   "cell_type": "code",
   "execution_count": null,
   "metadata": {},
   "outputs": [],
   "source": []
  }
 ],
 "metadata": {
  "kernelspec": {
   "display_name": "Python 3",
   "language": "python",
   "name": "python3"
  },
  "language_info": {
   "codemirror_mode": {
    "name": "ipython",
    "version": 3
   },
   "file_extension": ".py",
   "mimetype": "text/x-python",
   "name": "python",
   "nbconvert_exporter": "python",
   "pygments_lexer": "ipython3",
   "version": "3.6.5"
  }
 },
 "nbformat": 4,
 "nbformat_minor": 2
}
