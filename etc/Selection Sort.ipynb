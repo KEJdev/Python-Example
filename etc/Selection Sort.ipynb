{
 "cells": [
  {
   "cell_type": "code",
   "execution_count": 1,
   "id": "2dd2b736",
   "metadata": {},
   "outputs": [],
   "source": [
    "num = [5,39, 2,44,23]\n",
    "\n",
    "def selection_sort():\n",
    "    for _ in range(len(num)-1, 0, -1):\n",
    "        for idx in range(len(num)-1):\n",
    "            if num[idx] > min(num[idx+1:]):\n",
    "                num[num.index(min(num[idx+1:]))] , num[idx] = num[idx], min(num[idx+1:])\n",
    "                num[num.index(min(num[idx+1:]))] \n",
    "    print(num)"
   ]
  }
 ],
 "metadata": {
  "kernelspec": {
   "display_name": "Python 3",
   "language": "python",
   "name": "python3"
  },
  "language_info": {
   "codemirror_mode": {
    "name": "ipython",
    "version": 3
   },
   "file_extension": ".py",
   "mimetype": "text/x-python",
   "name": "python",
   "nbconvert_exporter": "python",
   "pygments_lexer": "ipython3",
   "version": "3.9.1"
  }
 },
 "nbformat": 4,
 "nbformat_minor": 5
}
