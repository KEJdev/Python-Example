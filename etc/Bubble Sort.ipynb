{
 "cells": [
  {
   "cell_type": "code",
   "execution_count": 1,
   "id": "7f5b310b",
   "metadata": {},
   "outputs": [
    {
     "name": "stdout",
     "output_type": "stream",
     "text": [
      "[1, 2, 3, 5, 7, 8]\n"
     ]
    }
   ],
   "source": [
    "num = [5,1,2,7,3,8]\n",
    "\n",
    "def bubble_sort(num):\n",
    "    for _ in range(len(num)-1, 0, -1):\n",
    "        for idx in range(len(num)-1):\n",
    "            if num[idx] > num[idx+1]:\n",
    "                num[idx], num[idx+1] = num[idx+1], num[idx]\n",
    "    return num\n",
    "print(bubble_sort(num))"
   ]
  }
 ],
 "metadata": {
  "kernelspec": {
   "display_name": "Python 3",
   "language": "python",
   "name": "python3"
  },
  "language_info": {
   "codemirror_mode": {
    "name": "ipython",
    "version": 3
   },
   "file_extension": ".py",
   "mimetype": "text/x-python",
   "name": "python",
   "nbconvert_exporter": "python",
   "pygments_lexer": "ipython3",
   "version": "3.9.1"
  }
 },
 "nbformat": 4,
 "nbformat_minor": 5
}
