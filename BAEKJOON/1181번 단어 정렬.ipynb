{
 "cells": [
  {
   "cell_type": "markdown",
   "id": "427ae5b1",
   "metadata": {},
   "source": [
    "[문제 링크](https://www.acmicpc.net/problem/1181)"
   ]
  },
  {
   "cell_type": "code",
   "execution_count": 1,
   "id": "ead42f93",
   "metadata": {},
   "outputs": [
    {
     "name": "stdout",
     "output_type": "stream",
     "text": [
      "13\n"
     ]
    }
   ],
   "source": [
    "n = int(input())"
   ]
  },
  {
   "cell_type": "code",
   "execution_count": 14,
   "id": "84bcbaec",
   "metadata": {},
   "outputs": [
    {
     "name": "stdout",
     "output_type": "stream",
     "text": [
      "but\n",
      "i\n",
      "wont\n",
      "hesitate\n",
      "no\n",
      "more\n",
      "no\n",
      "more\n",
      "it\n",
      "cannot\n",
      "wait\n",
      "im\n",
      "yours\n"
     ]
    }
   ],
   "source": [
    "temp = []\n",
    "for i in range(n):\n",
    "    temp.append(input())"
   ]
  },
  {
   "cell_type": "code",
   "execution_count": 22,
   "id": "986f92f7",
   "metadata": {},
   "outputs": [
    {
     "ename": "TypeError",
     "evalue": "'type' object is not iterable",
     "output_type": "error",
     "traceback": [
      "\u001b[0;31m---------------------------------------------------------------------\u001b[0m",
      "\u001b[0;31mTypeError\u001b[0m                           Traceback (most recent call last)",
      "\u001b[0;32m<ipython-input-22-5bb963b7e590>\u001b[0m in \u001b[0;36m<module>\u001b[0;34m\u001b[0m\n\u001b[0;32m----> 1\u001b[0;31m \u001b[0mzip\u001b[0m\u001b[0;34m(\u001b[0m\u001b[0mdict\u001b[0m\u001b[0;34m,\u001b[0m \u001b[0mtemp\u001b[0m\u001b[0;34m)\u001b[0m\u001b[0;34m\u001b[0m\u001b[0;34m\u001b[0m\u001b[0m\n\u001b[0m",
      "\u001b[0;31mTypeError\u001b[0m: 'type' object is not iterable"
     ]
    }
   ],
   "source": [
    "zip(dict, temp)"
   ]
  },
  {
   "cell_type": "code",
   "execution_count": 19,
   "id": "5a1ecccc",
   "metadata": {},
   "outputs": [
    {
     "data": {
      "text/plain": [
       "['but',\n",
       " 'cannot',\n",
       " 'hesitate',\n",
       " 'i',\n",
       " 'im',\n",
       " 'it',\n",
       " 'more',\n",
       " 'more',\n",
       " 'no',\n",
       " 'no',\n",
       " 'wait',\n",
       " 'wont',\n",
       " 'yours']"
      ]
     },
     "execution_count": 19,
     "metadata": {},
     "output_type": "execute_result"
    }
   ],
   "source": [
    "sorted(temp, key = str.upper)"
   ]
  },
  {
   "cell_type": "code",
   "execution_count": null,
   "id": "e03c2793",
   "metadata": {},
   "outputs": [],
   "source": []
  },
  {
   "cell_type": "code",
   "execution_count": null,
   "id": "dd15daa9",
   "metadata": {},
   "outputs": [],
   "source": []
  },
  {
   "cell_type": "code",
   "execution_count": null,
   "id": "c90ca270",
   "metadata": {},
   "outputs": [],
   "source": []
  },
  {
   "cell_type": "code",
   "execution_count": null,
   "id": "2262eac4",
   "metadata": {},
   "outputs": [],
   "source": []
  }
 ],
 "metadata": {
  "kernelspec": {
   "display_name": "Python 3",
   "language": "python",
   "name": "python3"
  },
  "language_info": {
   "codemirror_mode": {
    "name": "ipython",
    "version": 3
   },
   "file_extension": ".py",
   "mimetype": "text/x-python",
   "name": "python",
   "nbconvert_exporter": "python",
   "pygments_lexer": "ipython3",
   "version": "3.9.1"
  }
 },
 "nbformat": 4,
 "nbformat_minor": 5
}
