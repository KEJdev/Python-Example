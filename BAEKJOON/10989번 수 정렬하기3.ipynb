{
 "cells": [
  {
   "cell_type": "markdown",
   "id": "3dc60199",
   "metadata": {},
   "source": [
    "[문제 링크](https://www.acmicpc.net/problem/10989)"
   ]
  },
  {
   "cell_type": "code",
   "execution_count": null,
   "id": "d8a3fa5f",
   "metadata": {},
   "outputs": [],
   "source": [
    "import sys\n",
    "\n",
    "n = int(input())\n",
    "cnt = [0]* 10001\n",
    "for i in range(n):\n",
    "    cnt[int(sys.stdin.readline())] += 1\n",
    "\n",
    "for idx in range(10001):\n",
    "    for n in range(cnt[idx]):\n",
    "        print(idx)"
   ]
  },
  {
   "cell_type": "code",
   "execution_count": null,
   "id": "b76c1dc3",
   "metadata": {},
   "outputs": [],
   "source": []
  },
  {
   "cell_type": "code",
   "execution_count": null,
   "id": "deb2ef11",
   "metadata": {},
   "outputs": [],
   "source": []
  }
 ],
 "metadata": {
  "kernelspec": {
   "display_name": "Python 3",
   "language": "python",
   "name": "python3"
  },
  "language_info": {
   "codemirror_mode": {
    "name": "ipython",
    "version": 3
   },
   "file_extension": ".py",
   "mimetype": "text/x-python",
   "name": "python",
   "nbconvert_exporter": "python",
   "pygments_lexer": "ipython3",
   "version": "3.9.1"
  }
 },
 "nbformat": 4,
 "nbformat_minor": 5
}
