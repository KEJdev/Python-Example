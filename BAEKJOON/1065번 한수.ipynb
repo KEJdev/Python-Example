{
 "cells": [
  {
   "cell_type": "markdown",
   "id": "bfd71a28",
   "metadata": {},
   "source": [
    "[문제 링크](https://www.acmicpc.net/problem/1065)"
   ]
  },
  {
   "cell_type": "code",
   "execution_count": 124,
   "id": "babc57cf",
   "metadata": {},
   "outputs": [
    {
     "name": "stdout",
     "output_type": "stream",
     "text": [
      "110\n",
      "99\n"
     ]
    }
   ],
   "source": [
    "X = int(input())\n",
    "if X <= 99:\n",
    "    print(X)\n",
    "else:\n",
    "    cnt = 99\n",
    "    a,b,c = 0,0,0\n",
    "    for i in range(100,X+1):\n",
    "        a = int(i/100)\n",
    "        b = int((i/10)%10)\n",
    "        c = int(i%10)\n",
    "        if (b-a)==(c-b):\n",
    "            cnt += 1\n",
    "    print(cnt)"
   ]
  },
  {
   "cell_type": "code",
   "execution_count": null,
   "id": "46428d62",
   "metadata": {},
   "outputs": [],
   "source": []
  }
 ],
 "metadata": {
  "kernelspec": {
   "display_name": "Python 3 (ipykernel)",
   "language": "python",
   "name": "python3"
  },
  "language_info": {
   "codemirror_mode": {
    "name": "ipython",
    "version": 3
   },
   "file_extension": ".py",
   "mimetype": "text/x-python",
   "name": "python",
   "nbconvert_exporter": "python",
   "pygments_lexer": "ipython3",
   "version": "3.9.7"
  }
 },
 "nbformat": 4,
 "nbformat_minor": 5
}
