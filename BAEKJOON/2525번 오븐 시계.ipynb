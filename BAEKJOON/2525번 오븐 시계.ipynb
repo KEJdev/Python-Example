{
 "cells": [
  {
   "cell_type": "markdown",
   "id": "0200dca6",
   "metadata": {},
   "source": [
    "[문제 링크](https://www.acmicpc.net/problem/2525)"
   ]
  },
  {
   "cell_type": "code",
   "execution_count": 3,
   "id": "35640c73",
   "metadata": {},
   "outputs": [
    {
     "name": "stdout",
     "output_type": "stream",
     "text": [
      "12 30\n",
      "20\n"
     ]
    }
   ],
   "source": [
    "hour,minute = list(map(int,input().split(' ')))\n",
    "necessary_time = int(input())"
   ]
  },
  {
   "cell_type": "code",
   "execution_count": 4,
   "id": "d1921bf1",
   "metadata": {},
   "outputs": [
    {
     "name": "stdout",
     "output_type": "stream",
     "text": [
      "12 50\n"
     ]
    }
   ],
   "source": [
    "temp = 0\n",
    "\n",
    "if minute <= 60:\n",
    "    temp = int((minute+necessary_time)/60)\n",
    "    minute = (minute+necessary_time)%60\n",
    "\n",
    "if hour+temp>23:\n",
    "    hour = (hour+temp)-24 \n",
    "else:\n",
    "    hour = hour+temp\n",
    "    \n",
    "print(hour, minute)    "
   ]
  }
 ],
 "metadata": {
  "kernelspec": {
   "display_name": "Python 3 (ipykernel)",
   "language": "python",
   "name": "python3"
  },
  "language_info": {
   "codemirror_mode": {
    "name": "ipython",
    "version": 3
   },
   "file_extension": ".py",
   "mimetype": "text/x-python",
   "name": "python",
   "nbconvert_exporter": "python",
   "pygments_lexer": "ipython3",
   "version": "3.9.7"
  }
 },
 "nbformat": 4,
 "nbformat_minor": 5
}
