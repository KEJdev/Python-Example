{
 "cells": [
  {
   "cell_type": "markdown",
   "metadata": {},
   "source": [
    "[문제 링크](https://www.acmicpc.net/problem/2839)"
   ]
  },
  {
   "cell_type": "code",
   "execution_count": 70,
   "metadata": {},
   "outputs": [],
   "source": [
    "num = int(input())"
   ]
  },
  {
   "cell_type": "code",
   "execution_count": 72,
   "metadata": {},
   "outputs": [
    {
     "name": "stdout",
     "output_type": "stream",
     "text": [
      "3.0\n"
     ]
    }
   ],
   "source": [
    "cnt = 0\n",
    "while (num >= 0):\n",
    "    if num%5 == 0:\n",
    "        cnt += num/5\n",
    "        break\n",
    "    else:\n",
    "        num -= 3 \n",
    "        cnt += 1\n",
    "if num < 0:\n",
    "    cnt = -1\n",
    "    \n",
    "print(cnt)    \n",
    "    "
   ]
  }
 ],
 "metadata": {
  "interpreter": {
   "hash": "88afb576fd67d37a980a62a6a06e9eae3c36e3682af70ccc53c7557195de2ff4"
  },
  "kernelspec": {
   "display_name": "Python 3.9.1 ('oai-lab')",
   "language": "python",
   "name": "python3"
  },
  "language_info": {
   "codemirror_mode": {
    "name": "ipython",
    "version": 3
   },
   "file_extension": ".py",
   "mimetype": "text/x-python",
   "name": "python",
   "nbconvert_exporter": "python",
   "pygments_lexer": "ipython3",
   "version": "3.9.1"
  },
  "orig_nbformat": 4
 },
 "nbformat": 4,
 "nbformat_minor": 2
}
