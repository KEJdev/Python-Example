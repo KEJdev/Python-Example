{
 "cells": [
  {
   "cell_type": "markdown",
   "id": "6f5bbf1c",
   "metadata": {},
   "source": [
    "[문제 링크](https://www.acmicpc.net/problem/1152)"
   ]
  },
  {
   "cell_type": "code",
   "execution_count": 59,
   "id": "4db79fdf",
   "metadata": {},
   "outputs": [
    {
     "name": "stdout",
     "output_type": "stream",
     "text": [
      "The Curious Case of Benjamin Button\n",
      "6\n"
     ]
    }
   ],
   "source": [
    "temp = str(input())\n",
    "print(len(temp.split()))"
   ]
  }
 ],
 "metadata": {
  "kernelspec": {
   "display_name": "Python 3 (ipykernel)",
   "language": "python",
   "name": "python3"
  },
  "language_info": {
   "codemirror_mode": {
    "name": "ipython",
    "version": 3
   },
   "file_extension": ".py",
   "mimetype": "text/x-python",
   "name": "python",
   "nbconvert_exporter": "python",
   "pygments_lexer": "ipython3",
   "version": "3.9.7"
  }
 },
 "nbformat": 4,
 "nbformat_minor": 5
}
