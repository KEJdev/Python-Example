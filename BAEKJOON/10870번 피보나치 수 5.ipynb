{
 "cells": [
  {
   "cell_type": "markdown",
   "metadata": {},
   "source": [
    "[문제 링크](https://www.acmicpc.net/problem/10870)"
   ]
  },
  {
   "cell_type": "code",
   "execution_count": 40,
   "metadata": {},
   "outputs": [
    {
     "name": "stdout",
     "output_type": "stream",
     "text": [
      "55\n"
     ]
    }
   ],
   "source": [
    "def ans(num):\n",
    "    if num <=1 :\n",
    "        return num\n",
    "    return ans(num-1) + ans(num-2)\n",
    "\n",
    "print(ans(int(input())))"
   ]
  }
 ],
 "metadata": {
  "interpreter": {
   "hash": "c6c8df350729d68d412dbe622e559382150364b807cba207cfa152df8f69574e"
  },
  "kernelspec": {
   "display_name": "Python 3.9.1 ('3d-u-net')",
   "language": "python",
   "name": "python3"
  },
  "language_info": {
   "codemirror_mode": {
    "name": "ipython",
    "version": 3
   },
   "file_extension": ".py",
   "mimetype": "text/x-python",
   "name": "python",
   "nbconvert_exporter": "python",
   "pygments_lexer": "ipython3",
   "version": "3.9.1"
  },
  "orig_nbformat": 4
 },
 "nbformat": 4,
 "nbformat_minor": 2
}
