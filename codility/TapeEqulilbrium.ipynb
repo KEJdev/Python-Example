{
 "cells": [
  {
   "cell_type": "code",
   "execution_count": 142,
   "id": "0d5bb1c5",
   "metadata": {},
   "outputs": [],
   "source": [
    "A = [3,1,2,4,3]"
   ]
  },
  {
   "cell_type": "code",
   "execution_count": 124,
   "id": "a2ab83dd",
   "metadata": {},
   "outputs": [],
   "source": [
    "A = [1,2]"
   ]
  },
  {
   "cell_type": "code",
   "execution_count": 252,
   "id": "eba2bef8",
   "metadata": {},
   "outputs": [
    {
     "name": "stdout",
     "output_type": "stream",
     "text": [
      "1\n"
     ]
    }
   ],
   "source": [
    "def solution(A):\n",
    "    sum_A = 0\n",
    "    sum_P = sum(A)\n",
    "    result = None\n",
    "\n",
    "    for idx in range(1,len(A)):\n",
    "        sum_A += A[idx-1]\n",
    "        sum_P -= A[idx-1]\n",
    "        diff = abs(sum_A-sum_P)\n",
    "\n",
    "        if result == None:\n",
    "            result = diff\n",
    "        else:\n",
    "            result = min(result, diff)\n",
    "    return result"
   ]
  }
 ],
 "metadata": {
  "kernelspec": {
   "display_name": "Python 3",
   "language": "python",
   "name": "python3"
  },
  "language_info": {
   "codemirror_mode": {
    "name": "ipython",
    "version": 3
   },
   "file_extension": ".py",
   "mimetype": "text/x-python",
   "name": "python",
   "nbconvert_exporter": "python",
   "pygments_lexer": "ipython3",
   "version": "3.9.1"
  }
 },
 "nbformat": 4,
 "nbformat_minor": 5
}
