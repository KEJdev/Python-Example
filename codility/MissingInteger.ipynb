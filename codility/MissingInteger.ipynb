{
 "cells": [
  {
   "cell_type": "code",
   "execution_count": 25,
   "id": "7ac21a30",
   "metadata": {},
   "outputs": [],
   "source": [
    "A = [1,3,6,4,1,2]"
   ]
  },
  {
   "cell_type": "code",
   "execution_count": 16,
   "id": "7e39944c",
   "metadata": {},
   "outputs": [],
   "source": [
    "for i in range(len(set_a)):\n",
    "    if set_a[i] != i+1:\n",
    "        temp = i+1\n",
    "        break\n",
    "temp "
   ]
  },
  {
   "cell_type": "code",
   "execution_count": 28,
   "id": "53e7fb26",
   "metadata": {},
   "outputs": [],
   "source": [
    "A = [1,2,3]"
   ]
  },
  {
   "cell_type": "code",
   "execution_count": 30,
   "id": "61c52486",
   "metadata": {},
   "outputs": [],
   "source": [
    "A = [-1,-3]"
   ]
  },
  {
   "cell_type": "code",
   "execution_count": 32,
   "id": "803dec66",
   "metadata": {},
   "outputs": [],
   "source": [
    "A = [4,5,6,2] #1"
   ]
  },
  {
   "cell_type": "code",
   "execution_count": 45,
   "id": "01f34dc7",
   "metadata": {},
   "outputs": [],
   "source": [
    "A = [-1, 1, 2, 3]"
   ]
  },
  {
   "cell_type": "code",
   "execution_count": 47,
   "id": "52288d0b",
   "metadata": {},
   "outputs": [],
   "source": [
    "A = [-1000000, 1000000]"
   ]
  },
  {
   "cell_type": "code",
   "execution_count": 49,
   "id": "bf7f699c",
   "metadata": {},
   "outputs": [
    {
     "data": {
      "text/plain": [
       "False"
      ]
     },
     "execution_count": 49,
     "metadata": {},
     "output_type": "execute_result"
    }
   ],
   "source": [
    "1 in set_a"
   ]
  },
  {
   "cell_type": "code",
   "execution_count": 38,
   "id": "f8711b5d",
   "metadata": {},
   "outputs": [],
   "source": [
    "A = [0]"
   ]
  },
  {
   "cell_type": "code",
   "execution_count": 46,
   "id": "4442febc",
   "metadata": {},
   "outputs": [
    {
     "data": {
      "text/plain": [
       "-1"
      ]
     },
     "execution_count": 46,
     "metadata": {},
     "output_type": "execute_result"
    }
   ],
   "source": [
    "min(A)"
   ]
  },
  {
   "cell_type": "code",
   "execution_count": null,
   "id": "d923fa40",
   "metadata": {},
   "outputs": [],
   "source": []
  },
  {
   "cell_type": "code",
   "execution_count": 44,
   "id": "d8289bef",
   "metadata": {},
   "outputs": [
    {
     "name": "stdout",
     "output_type": "stream",
     "text": [
      "set a:  [0]\n",
      "temp 1\n",
      "1\n"
     ]
    }
   ],
   "source": [
    "temp = 0\n",
    "set_a = sorted(set(A))\n",
    "print('set a: ', set_a)\n",
    "\n",
    "if min(set_a)<0 and (1 in set_a)==False:\n",
    "    print(1)\n",
    "else:\n",
    "    for i in range(len(set_a)):\n",
    "        if set_a[i] != i+1:\n",
    "            temp = i+1\n",
    "            break\n",
    "print('temp', temp)\n",
    "# 순열이라면, 최댓값에서 +1 \n",
    "if temp == 0:\n",
    "    print(set_a[-1]+1)\n",
    "elif temp > set_a[0]-1 and set_a[0] != 1 and temp != 1:\n",
    "    print(set_a[0]-1)\n",
    "else:\n",
    "    print(temp)"
   ]
  },
  {
   "cell_type": "code",
   "execution_count": 43,
   "id": "089a4caf",
   "metadata": {},
   "outputs": [
    {
     "data": {
      "text/plain": [
       "1"
      ]
     },
     "execution_count": 43,
     "metadata": {},
     "output_type": "execute_result"
    }
   ],
   "source": [
    "temp"
   ]
  },
  {
   "cell_type": "code",
   "execution_count": null,
   "id": "1b34f15a",
   "metadata": {},
   "outputs": [],
   "source": []
  },
  {
   "cell_type": "code",
   "execution_count": null,
   "id": "f6b9cd37",
   "metadata": {},
   "outputs": [],
   "source": []
  },
  {
   "cell_type": "code",
   "execution_count": null,
   "id": "ba24d9ce",
   "metadata": {},
   "outputs": [],
   "source": []
  },
  {
   "cell_type": "code",
   "execution_count": null,
   "id": "e68146ce",
   "metadata": {},
   "outputs": [],
   "source": []
  },
  {
   "cell_type": "code",
   "execution_count": null,
   "id": "10a0735d",
   "metadata": {},
   "outputs": [],
   "source": []
  }
 ],
 "metadata": {
  "kernelspec": {
   "display_name": "Python 3 (ipykernel)",
   "language": "python",
   "name": "python3"
  },
  "language_info": {
   "codemirror_mode": {
    "name": "ipython",
    "version": 3
   },
   "file_extension": ".py",
   "mimetype": "text/x-python",
   "name": "python",
   "nbconvert_exporter": "python",
   "pygments_lexer": "ipython3",
   "version": "3.9.7"
  }
 },
 "nbformat": 4,
 "nbformat_minor": 5
}
