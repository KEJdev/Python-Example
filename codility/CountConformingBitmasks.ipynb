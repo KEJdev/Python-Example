{
 "cells": [
  {
   "cell_type": "markdown",
   "id": "32b906ec",
   "metadata": {},
   "source": [
    "[문제링크](https://app.codility.com/demo/results/trainingK4SQZQ-394/)"
   ]
  },
  {
   "cell_type": "code",
   "execution_count": 61,
   "id": "41695d0c",
   "metadata": {},
   "outputs": [],
   "source": [
    "A = 1073741727\n",
    "B = 1073741631\n",
    "C = 1073741679"
   ]
  },
  {
   "cell_type": "code",
   "execution_count": 103,
   "id": "2576a565",
   "metadata": {},
   "outputs": [],
   "source": [
    "def supers(number):\n",
    "    zeros = sum(1 for bit in range(30) if (number >> bit) & 1 == 0)\n",
    "    return 2**zeros\n",
    "\n",
    "\n",
    "def solution(A, B, C):\n",
    "    total = supers(A) + supers(B) + supers(C)\n",
    "    total -= supers(A| B)\n",
    "    total -= supers(B | C) \n",
    "    total -= supers(A | C) \n",
    "    total += supers(A | B |C)\n",
    "\n",
    "    return total"
   ]
  }
 ],
 "metadata": {
  "kernelspec": {
   "display_name": "Python 3",
   "language": "python",
   "name": "python3"
  },
  "language_info": {
   "codemirror_mode": {
    "name": "ipython",
    "version": 3
   },
   "file_extension": ".py",
   "mimetype": "text/x-python",
   "name": "python",
   "nbconvert_exporter": "python",
   "pygments_lexer": "ipython3",
   "version": "3.9.1"
  }
 },
 "nbformat": 4,
 "nbformat_minor": 5
}
