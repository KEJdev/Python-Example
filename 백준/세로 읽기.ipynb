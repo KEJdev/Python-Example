{
 "cells": [
  {
   "cell_type": "markdown",
   "id": "a9b2cfa6",
   "metadata": {},
   "source": [
    "[문제 링크](https://www.acmicpc.net/problem/10798)"
   ]
  },
  {
   "cell_type": "code",
   "execution_count": 242,
   "id": "765f8fbc",
   "metadata": {},
   "outputs": [
    {
     "name": "stdout",
     "output_type": "stream",
     "text": [
      "AABCDD\n",
      "afzz\n",
      "09121\n",
      "a8EWg6\n",
      "P5h3kx\n"
     ]
    }
   ],
   "source": [
    "L,max_len = [], 0\n",
    "for i in range(5):\n",
    "    L.append(input())\n",
    "    if max_len < len(L[i]):\n",
    "        max_len = len(L[i])\n",
    "S = ''\n",
    "for j in range(max_len):\n",
    "    for i in L:\n",
    "        try:\n",
    "            S+= i[j]\n",
    "        except IndexError:\n",
    "            pass\n",
    "print(S)"
   ]
  },
  {
   "cell_type": "markdown",
   "id": "bbba25fa",
   "metadata": {},
   "source": [
    "코드를 조금 더 간결하게.."
   ]
  },
  {
   "cell_type": "code",
   "execution_count": 249,
   "id": "9d33fd19",
   "metadata": {},
   "outputs": [
    {
     "name": "stdout",
     "output_type": "stream",
     "text": [
      "AABCDD\n",
      "afzz\n",
      "09121\n",
      "a8EWg6\n",
      "P5h3kx\n",
      "Aa0aPAf985Bz1EhCz2W3D1gkD6x\n"
     ]
    }
   ],
   "source": [
    "L, max_len = [], 0\n",
    "for _ in range(5):\n",
    "    L.append(input())\n",
    "    max_len = max(max_len, len(L[-1]))\n",
    "\n",
    "S = ''.join(L[i][j] for j in range(max_len) for i in range(5) if j < len(L[i]))\n",
    "\n",
    "print(S)"
   ]
  },
  {
   "cell_type": "code",
   "execution_count": null,
   "id": "22c6f069",
   "metadata": {},
   "outputs": [],
   "source": []
  }
 ],
 "metadata": {
  "kernelspec": {
   "display_name": "Python 3 (ipykernel)",
   "language": "python",
   "name": "python3"
  },
  "language_info": {
   "codemirror_mode": {
    "name": "ipython",
    "version": 3
   },
   "file_extension": ".py",
   "mimetype": "text/x-python",
   "name": "python",
   "nbconvert_exporter": "python",
   "pygments_lexer": "ipython3",
   "version": "3.9.16"
  }
 },
 "nbformat": 4,
 "nbformat_minor": 5
}
