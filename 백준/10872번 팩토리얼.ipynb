{
 "cells": [
  {
   "cell_type": "markdown",
   "metadata": {},
   "source": [
    "[문제 링크](https://www.acmicpc.net/problem/10872)"
   ]
  },
  {
   "cell_type": "code",
   "execution_count": 30,
   "metadata": {},
   "outputs": [
    {
     "name": "stdout",
     "output_type": "stream",
     "text": [
      "3628800\n"
     ]
    }
   ],
   "source": [
    "def gop(num):\n",
    "    if num == 1 or num == 0:\n",
    "        return 1        \n",
    "    return num * gop(num-1)\n",
    "print(gop(int(input())))"
   ]
  }
 ],
 "metadata": {
  "interpreter": {
   "hash": "c6c8df350729d68d412dbe622e559382150364b807cba207cfa152df8f69574e"
  },
  "kernelspec": {
   "display_name": "Python 3.9.1 ('3d-u-net')",
   "language": "python",
   "name": "python3"
  },
  "language_info": {
   "codemirror_mode": {
    "name": "ipython",
    "version": 3
   },
   "file_extension": ".py",
   "mimetype": "text/x-python",
   "name": "python",
   "nbconvert_exporter": "python",
   "pygments_lexer": "ipython3",
   "version": "3.9.1"
  },
  "orig_nbformat": 4
 },
 "nbformat": 4,
 "nbformat_minor": 2
}
