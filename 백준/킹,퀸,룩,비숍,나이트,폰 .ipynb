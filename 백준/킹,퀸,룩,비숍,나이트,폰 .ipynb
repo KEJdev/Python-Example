{
 "cells": [
  {
   "cell_type": "markdown",
   "id": "5aa9eae0",
   "metadata": {},
   "source": [
    "[문제 링크](https://www.acmicpc.net/problem/3003)"
   ]
  },
  {
   "cell_type": "code",
   "execution_count": 15,
   "id": "33a8d36d",
   "metadata": {},
   "outputs": [],
   "source": [
    "ck = [1,1,2,2,2,8]"
   ]
  },
  {
   "cell_type": "code",
   "execution_count": 16,
   "id": "ab6d93b2",
   "metadata": {},
   "outputs": [
    {
     "name": "stdout",
     "output_type": "stream",
     "text": [
      "1\n",
      "0\n",
      "0\n",
      "-1\n",
      "0\n",
      "-7\n"
     ]
    }
   ],
   "source": [
    "for val, ck in zip([2,1,2,1,2,1], ck):\n",
    "    print(val-ck)"
   ]
  },
  {
   "cell_type": "code",
   "execution_count": null,
   "id": "b30bca4c",
   "metadata": {},
   "outputs": [],
   "source": []
  },
  {
   "cell_type": "code",
   "execution_count": null,
   "id": "2236d7da",
   "metadata": {},
   "outputs": [],
   "source": []
  },
  {
   "cell_type": "code",
   "execution_count": null,
   "id": "d0cb4e47",
   "metadata": {},
   "outputs": [],
   "source": []
  },
  {
   "cell_type": "code",
   "execution_count": null,
   "id": "988dd806",
   "metadata": {},
   "outputs": [],
   "source": []
  }
 ],
 "metadata": {
  "kernelspec": {
   "display_name": "Python 3",
   "language": "python",
   "name": "python3"
  },
  "language_info": {
   "codemirror_mode": {
    "name": "ipython",
    "version": 3
   },
   "file_extension": ".py",
   "mimetype": "text/x-python",
   "name": "python",
   "nbconvert_exporter": "python",
   "pygments_lexer": "ipython3",
   "version": "3.9.1"
  }
 },
 "nbformat": 4,
 "nbformat_minor": 5
}
