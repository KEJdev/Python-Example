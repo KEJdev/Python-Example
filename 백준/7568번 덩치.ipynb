{
 "cells": [
  {
   "cell_type": "markdown",
   "id": "29990366",
   "metadata": {},
   "source": [
    "[문제 링크](https://www.acmicpc.net/problem/7568)"
   ]
  },
  {
   "cell_type": "code",
   "execution_count": 198,
   "id": "35230a11",
   "metadata": {},
   "outputs": [
    {
     "name": "stdout",
     "output_type": "stream",
     "text": [
      "1\n",
      "55 156\n",
      "1 "
     ]
    }
   ],
   "source": [
    "num = int(input())\n",
    "temp = []\n",
    "for i in range(num):\n",
    "    temp.append(list(map(int, input().split(' '))))\n",
    "\n",
    "for i in temp:\n",
    "    count = 1\n",
    "    for j in temp:\n",
    "        if i[0] < j[0] and i[1] < j[1]:\n",
    "            count += 1\n",
    "    print(count, end=\" \")  "
   ]
  },
  {
   "cell_type": "code",
   "execution_count": null,
   "id": "4a7ec815",
   "metadata": {},
   "outputs": [],
   "source": []
  }
 ],
 "metadata": {
  "kernelspec": {
   "display_name": "Python 3",
   "language": "python",
   "name": "python3"
  },
  "language_info": {
   "codemirror_mode": {
    "name": "ipython",
    "version": 3
   },
   "file_extension": ".py",
   "mimetype": "text/x-python",
   "name": "python",
   "nbconvert_exporter": "python",
   "pygments_lexer": "ipython3",
   "version": "3.9.1"
  }
 },
 "nbformat": 4,
 "nbformat_minor": 5
}
