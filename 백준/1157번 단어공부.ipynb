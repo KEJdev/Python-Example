{
 "cells": [
  {
   "cell_type": "markdown",
   "id": "9e69403d",
   "metadata": {},
   "source": [
    "[문제 링크](https://www.acmicpc.net/problem/1157)"
   ]
  },
  {
   "cell_type": "code",
   "execution_count": 71,
   "id": "6412b52b",
   "metadata": {},
   "outputs": [
    {
     "name": "stdout",
     "output_type": "stream",
     "text": [
      "Mississipi\n"
     ]
    }
   ],
   "source": [
    "import collections\n",
    "\n",
    "temp = str(input()).upper()\n",
    "res = collections.Counter(temp)\n",
    "\n",
    "if 1 != list(res.values()).count(max(res.values())):\n",
    "    print(\"?\")\n",
    "else:\n",
    "    dict_res = sorted(res.items(), key= lambda item : item[1], reverse=True)\n",
    "    print(dict_res[0][0])"
   ]
  }
 ],
 "metadata": {
  "kernelspec": {
   "display_name": "Python 3 (ipykernel)",
   "language": "python",
   "name": "python3"
  },
  "language_info": {
   "codemirror_mode": {
    "name": "ipython",
    "version": 3
   },
   "file_extension": ".py",
   "mimetype": "text/x-python",
   "name": "python",
   "nbconvert_exporter": "python",
   "pygments_lexer": "ipython3",
   "version": "3.9.7"
  }
 },
 "nbformat": 4,
 "nbformat_minor": 5
}
