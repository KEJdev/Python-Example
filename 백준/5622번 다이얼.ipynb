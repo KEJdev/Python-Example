{
 "cells": [
  {
   "cell_type": "markdown",
   "id": "60d98ee6",
   "metadata": {},
   "source": [
    "[문제 링크](https://www.acmicpc.net/problem/5622)"
   ]
  },
  {
   "cell_type": "code",
   "execution_count": 10,
   "id": "9a68ae49",
   "metadata": {},
   "outputs": [],
   "source": [
    "temp = list(input())"
   ]
  },
  {
   "cell_type": "code",
   "execution_count": 12,
   "id": "78b8f3ed",
   "metadata": {},
   "outputs": [],
   "source": [
    "res =['ABC','DEF','GHI','JKL','MNO','PQRS','TUV','WXYZ']\n",
    "cnt = 0\n",
    "\n",
    "for i in temp:\n",
    "    for idx, val in enumerate(res):\n",
    "        if i in val:\n",
    "            cnt += idx+3\n",
    "            break\n",
    "print(cnt)        "
   ]
  }
 ],
 "metadata": {
  "kernelspec": {
   "display_name": "Python 3",
   "language": "python",
   "name": "python3"
  },
  "language_info": {
   "codemirror_mode": {
    "name": "ipython",
    "version": 3
   },
   "file_extension": ".py",
   "mimetype": "text/x-python",
   "name": "python",
   "nbconvert_exporter": "python",
   "pygments_lexer": "ipython3",
   "version": "3.9.1"
  }
 },
 "nbformat": 4,
 "nbformat_minor": 5
}
