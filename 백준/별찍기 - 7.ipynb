{
 "cells": [
  {
   "cell_type": "code",
   "execution_count": 1,
   "id": "9bd7376b",
   "metadata": {},
   "outputs": [
    {
     "name": "stdout",
     "output_type": "stream",
     "text": [
      "5\n"
     ]
    }
   ],
   "source": [
    "N = int(input())"
   ]
  },
  {
   "cell_type": "code",
   "execution_count": 50,
   "id": "be01844a",
   "metadata": {},
   "outputs": [
    {
     "name": "stdout",
     "output_type": "stream",
     "text": [
      "    *\n",
      "   ***\n",
      "  *****\n",
      " *******\n",
      "*********\n",
      "*********\n",
      " *******\n",
      "  *****\n",
      "   ***\n",
      "    *\n"
     ]
    }
   ],
   "source": [
    "N = int(input())\n",
    "def star(N):\n",
    "    for i in range(N):\n",
    "        print(' ' * (N - 1 - i) + '*' * (2 * i + 1))\n",
    "    \n",
    "    for i in range(N - 2, -1, -1):\n",
    "        print(' ' * (N - 1 - i) + '*' * (2 * i + 1))\n",
    "\n",
    "star(N)"
   ]
  },
  {
   "cell_type": "code",
   "execution_count": null,
   "id": "8acac753",
   "metadata": {},
   "outputs": [],
   "source": []
  }
 ],
 "metadata": {
  "kernelspec": {
   "display_name": "Python 3 (ipykernel)",
   "language": "python",
   "name": "python3"
  },
  "language_info": {
   "codemirror_mode": {
    "name": "ipython",
    "version": 3
   },
   "file_extension": ".py",
   "mimetype": "text/x-python",
   "name": "python",
   "nbconvert_exporter": "python",
   "pygments_lexer": "ipython3",
   "version": "3.9.16"
  }
 },
 "nbformat": 4,
 "nbformat_minor": 5
}
