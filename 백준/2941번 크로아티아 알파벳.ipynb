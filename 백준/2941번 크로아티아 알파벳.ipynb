{
 "cells": [
  {
   "cell_type": "markdown",
   "metadata": {},
   "source": [
    "[문제 링크](https://www.acmicpc.net/problem/2941)"
   ]
  },
  {
   "cell_type": "code",
   "execution_count": 87,
   "metadata": {},
   "outputs": [],
   "source": [
    "temp = str(input())"
   ]
  },
  {
   "cell_type": "code",
   "execution_count": 43,
   "metadata": {},
   "outputs": [],
   "source": [
    "res=[\"c=\",\"c-\",\"dz=\",\"d-\",\"lj\",\"nj\",\"s=\",\"z=\"]"
   ]
  },
  {
   "cell_type": "code",
   "execution_count": 89,
   "metadata": {},
   "outputs": [
    {
     "name": "stdout",
     "output_type": "stream",
     "text": [
      "3\n"
     ]
    }
   ],
   "source": [
    "cnt = 0\n",
    "\n",
    "for idx in range(len(temp)-1):\n",
    "    for val in res:\n",
    "        df = temp[idx:idx+2]\n",
    "        df2 = temp[idx:idx+3]\n",
    "        df3 = temp[idx+1:idx+2]\n",
    "        if df == val:\n",
    "            cnt += 1\n",
    "        elif df2 == val:\n",
    "            cnt += 1\n",
    "        elif df3 == val:\n",
    "            cnt += 1\n",
    "            \n",
    "print(len(temp)-cnt)"
   ]
  },
  {
   "cell_type": "code",
   "execution_count": 1,
   "metadata": {},
   "outputs": [
    {
     "name": "stdout",
     "output_type": "stream",
     "text": [
      "6\n"
     ]
    }
   ],
   "source": [
    "print(len(s:=input())-sum(map(s.count,\"= - lj nj dz=\".split())))"
   ]
  }
 ],
 "metadata": {
  "interpreter": {
   "hash": "b0fa6594d8f4cbf19f97940f81e996739fb7646882a419484c72d19e05852a7e"
  },
  "kernelspec": {
   "display_name": "Python 3.9.7 64-bit",
   "language": "python",
   "name": "python3"
  },
  "language_info": {
   "codemirror_mode": {
    "name": "ipython",
    "version": 3
   },
   "file_extension": ".py",
   "mimetype": "text/x-python",
   "name": "python",
   "nbconvert_exporter": "python",
   "pygments_lexer": "ipython3",
   "version": "3.9.7"
  },
  "orig_nbformat": 4
 },
 "nbformat": 4,
 "nbformat_minor": 2
}
