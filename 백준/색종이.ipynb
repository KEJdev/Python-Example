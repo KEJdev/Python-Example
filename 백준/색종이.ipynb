{
 "cells": [
  {
   "cell_type": "markdown",
   "id": "1be2f730",
   "metadata": {},
   "source": [
    "[문제 링크](https://www.acmicpc.net/problem/2563)"
   ]
  },
  {
   "cell_type": "code",
   "execution_count": 158,
   "id": "d156e900",
   "metadata": {},
   "outputs": [
    {
     "name": "stdout",
     "output_type": "stream",
     "text": [
      "3\n",
      "1 1\n",
      "1 2\n",
      "2 1\n"
     ]
    }
   ],
   "source": [
    "grid = [[0] * 100 for _ in range(100)]\n",
    "N = int(input())\n",
    "for _ in range(N):\n",
    "    x, y = map(int, input().split())\n",
    "    for i in range(10):\n",
    "        for j in range(10):\n",
    "            grid[x + i][y + j] = 1"
   ]
  },
  {
   "cell_type": "code",
   "execution_count": 159,
   "id": "f39d6753",
   "metadata": {},
   "outputs": [
    {
     "name": "stdout",
     "output_type": "stream",
     "text": [
      "120\n"
     ]
    }
   ],
   "source": [
    "print(sum(map(sum, grid)))"
   ]
  }
 ],
 "metadata": {
  "kernelspec": {
   "display_name": "Python 3 (ipykernel)",
   "language": "python",
   "name": "python3"
  },
  "language_info": {
   "codemirror_mode": {
    "name": "ipython",
    "version": 3
   },
   "file_extension": ".py",
   "mimetype": "text/x-python",
   "name": "python",
   "nbconvert_exporter": "python",
   "pygments_lexer": "ipython3",
   "version": "3.9.16"
  }
 },
 "nbformat": 4,
 "nbformat_minor": 5
}
