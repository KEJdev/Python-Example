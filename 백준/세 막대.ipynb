{
 "cells": [
  {
   "cell_type": "markdown",
   "id": "16f4cfa6-c35a-4b5c-bc29-6c3361a83e02",
   "metadata": {},
   "source": [
    "[문제 링크](https://www.acmicpc.net/problem/14215)"
   ]
  },
  {
   "cell_type": "code",
   "execution_count": 1,
   "id": "f90a3ad2-f5d0-4143-bf28-8364df3bdd71",
   "metadata": {},
   "outputs": [
    {
     "name": "stdin",
     "output_type": "stream",
     "text": [
      " 1 2 3\n"
     ]
    }
   ],
   "source": [
    "temp = list(map(int, input().split(' ')))"
   ]
  },
  {
   "cell_type": "code",
   "execution_count": 3,
   "id": "431d0aa6-4f2e-4cb5-b085-7a1dfcfbf750",
   "metadata": {},
   "outputs": [
    {
     "data": {
      "text/plain": [
       "1"
      ]
     },
     "execution_count": 3,
     "metadata": {},
     "output_type": "execute_result"
    }
   ],
   "source": [
    "temp[0]"
   ]
  },
  {
   "cell_type": "code",
   "execution_count": 4,
   "id": "07f31a65-54ee-4684-9f5f-df07284e0872",
   "metadata": {},
   "outputs": [
    {
     "data": {
      "text/plain": [
       "2"
      ]
     },
     "execution_count": 4,
     "metadata": {},
     "output_type": "execute_result"
    }
   ],
   "source": [
    "temp[1]"
   ]
  },
  {
   "cell_type": "code",
   "execution_count": 5,
   "id": "edb5bfd8-5315-4cd1-b4db-2cda75445898",
   "metadata": {},
   "outputs": [
    {
     "data": {
      "text/plain": [
       "3"
      ]
     },
     "execution_count": 5,
     "metadata": {},
     "output_type": "execute_result"
    }
   ],
   "source": [
    "temp[2]"
   ]
  },
  {
   "cell_type": "code",
   "execution_count": 6,
   "id": "a452b093-2599-492a-aae5-7164567ca1c5",
   "metadata": {},
   "outputs": [
    {
     "name": "stdout",
     "output_type": "stream",
     "text": [
      "0\n",
      "1\n",
      "2\n"
     ]
    }
   ],
   "source": [
    "for i in range(3):\n",
    "    temp\n",
    "    print(i)"
   ]
  },
  {
   "cell_type": "code",
   "execution_count": null,
   "id": "9a62abb2-bb33-4e9f-948f-460e115bd638",
   "metadata": {},
   "outputs": [],
   "source": []
  },
  {
   "cell_type": "code",
   "execution_count": null,
   "id": "04678f14-fdaf-4dfc-8eb4-1566e9768b11",
   "metadata": {},
   "outputs": [],
   "source": []
  }
 ],
 "metadata": {
  "kernelspec": {
   "display_name": "Python 3 (ipykernel)",
   "language": "python",
   "name": "python3"
  },
  "language_info": {
   "codemirror_mode": {
    "name": "ipython",
    "version": 3
   },
   "file_extension": ".py",
   "mimetype": "text/x-python",
   "name": "python",
   "nbconvert_exporter": "python",
   "pygments_lexer": "ipython3",
   "version": "3.9.1"
  }
 },
 "nbformat": 4,
 "nbformat_minor": 5
}
