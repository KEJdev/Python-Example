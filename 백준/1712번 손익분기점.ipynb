{
 "cells": [
  {
   "cell_type": "markdown",
   "metadata": {},
   "source": [
    "[문제 링크](https://www.acmicpc.net/problem/1712)"
   ]
  },
  {
   "cell_type": "code",
   "execution_count": 48,
   "metadata": {},
   "outputs": [],
   "source": [
    "a,b,c = map(int, input().split(' '))"
   ]
  },
  {
   "cell_type": "code",
   "execution_count": 49,
   "metadata": {},
   "outputs": [
    {
     "name": "stdout",
     "output_type": "stream",
     "text": [
      "2100000001.0\n"
     ]
    }
   ],
   "source": [
    "if b>=c :\n",
    "    print(-1)\n",
    "else:\n",
    "    print(int((a/(c-b)+1)))"
   ]
  }
 ],
 "metadata": {
  "interpreter": {
   "hash": "88afb576fd67d37a980a62a6a06e9eae3c36e3682af70ccc53c7557195de2ff4"
  },
  "kernelspec": {
   "display_name": "Python 3.9.1 ('oai-lab')",
   "language": "python",
   "name": "python3"
  },
  "language_info": {
   "codemirror_mode": {
    "name": "ipython",
    "version": 3
   },
   "file_extension": ".py",
   "mimetype": "text/x-python",
   "name": "python",
   "nbconvert_exporter": "python",
   "pygments_lexer": "ipython3",
   "version": "3.9.1"
  },
  "orig_nbformat": 4
 },
 "nbformat": 4,
 "nbformat_minor": 2
}
