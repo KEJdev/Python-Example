{
 "cells": [
  {
   "cell_type": "markdown",
   "id": "f7e17fdf-9b0d-49a3-aea9-a56c9ab385b6",
   "metadata": {},
   "source": [
    "[문제 링크](https://www.acmicpc.net/problem/5073)"
   ]
  },
  {
   "cell_type": "markdown",
   "id": "6045ab83-0c65-42fa-998f-6d3786425754",
   "metadata": {},
   "source": [
    "Equilateral :  세 변의 길이가 모두 같은 경우  \n",
    "Isosceles : 두 변의 길이만 같은 경우  \n",
    "Scalene : 세 변의 길이가 모두 다른 경우"
   ]
  },
  {
   "cell_type": "code",
   "execution_count": 61,
   "id": "75fcdd97-c848-43ce-9af1-dff169a884e7",
   "metadata": {},
   "outputs": [
    {
     "name": "stdin",
     "output_type": "stream",
     "text": [
      " 3 2 6\n"
     ]
    },
    {
     "name": "stdout",
     "output_type": "stream",
     "text": [
      "Invalid\n"
     ]
    },
    {
     "name": "stdin",
     "output_type": "stream",
     "text": [
      " 6 2 6\n"
     ]
    },
    {
     "name": "stdout",
     "output_type": "stream",
     "text": [
      "Isosceles\n"
     ]
    },
    {
     "name": "stdin",
     "output_type": "stream",
     "text": [
      " 6 5 4\n"
     ]
    },
    {
     "name": "stdout",
     "output_type": "stream",
     "text": [
      "Scalene\n"
     ]
    },
    {
     "name": "stdin",
     "output_type": "stream",
     "text": [
      " 7 7 7\n"
     ]
    },
    {
     "name": "stdout",
     "output_type": "stream",
     "text": [
      "Equilateral\n"
     ]
    },
    {
     "name": "stdin",
     "output_type": "stream",
     "text": [
      " 0 0 0\n"
     ]
    }
   ],
   "source": [
    "while True:\n",
    "    temp = list(map(int, input().split(' ')))\n",
    "    temp.sort(reverse=True)\n",
    "    \n",
    "    if (temp[0] >= sum(temp[1:])) and sum(temp) != 0:\n",
    "        print(\"Invalid\")\n",
    "    \n",
    "    elif sum(temp) != 0 :\n",
    "        if (len(set(temp)) == 1):\n",
    "            print(\"Equilateral\")\n",
    "        \n",
    "        elif len(set(temp)) == 2:\n",
    "            print(\"Isosceles\")\n",
    "        \n",
    "        elif len(set(temp)) == 3:\n",
    "            print(\"Scalene\")    \n",
    "    else:\n",
    "        break"
   ]
  },
  {
   "cell_type": "code",
   "execution_count": 62,
   "id": "39d62f24-f22f-496f-abd0-2f5d67fffff3",
   "metadata": {},
   "outputs": [
    {
     "name": "stdin",
     "output_type": "stream",
     "text": [
      " 3 2 6\n"
     ]
    },
    {
     "name": "stdout",
     "output_type": "stream",
     "text": [
      "Invalid\n"
     ]
    },
    {
     "name": "stdin",
     "output_type": "stream",
     "text": [
      " 7 7 7\n"
     ]
    },
    {
     "name": "stdout",
     "output_type": "stream",
     "text": [
      "Equilateral\n"
     ]
    },
    {
     "name": "stdin",
     "output_type": "stream",
     "text": [
      " 6 5 4\n"
     ]
    },
    {
     "name": "stdout",
     "output_type": "stream",
     "text": [
      "Scalene\n"
     ]
    },
    {
     "name": "stdin",
     "output_type": "stream",
     "text": [
      " 0 0 0\n"
     ]
    }
   ],
   "source": [
    "while True:\n",
    "    temp = list(map(int, input().split(' ')))\n",
    "    temp.sort(reverse=True)\n",
    "    \n",
    "    total_sum = sum(temp)\n",
    "    \n",
    "    if total_sum == 0:\n",
    "        break\n",
    "    \n",
    "    if temp[0] >= total_sum - temp[0]:\n",
    "        print(\"Invalid\")\n",
    "        continue\n",
    "    \n",
    "    unique_sides = len(set(temp))\n",
    "    \n",
    "    if unique_sides == 1:\n",
    "        print(\"Equilateral\")\n",
    "    elif unique_sides == 2:\n",
    "        print(\"Isosceles\")\n",
    "    else:\n",
    "        print(\"Scalene\")\n"
   ]
  },
  {
   "cell_type": "code",
   "execution_count": null,
   "id": "f49f4a67-7786-4f9f-8abf-7639058a9ddb",
   "metadata": {},
   "outputs": [],
   "source": []
  },
  {
   "cell_type": "code",
   "execution_count": null,
   "id": "22c1037c-4402-4010-b1db-3fce8050d787",
   "metadata": {},
   "outputs": [],
   "source": []
  }
 ],
 "metadata": {
  "kernelspec": {
   "display_name": "Python 3 (ipykernel)",
   "language": "python",
   "name": "python3"
  },
  "language_info": {
   "codemirror_mode": {
    "name": "ipython",
    "version": 3
   },
   "file_extension": ".py",
   "mimetype": "text/x-python",
   "name": "python",
   "nbconvert_exporter": "python",
   "pygments_lexer": "ipython3",
   "version": "3.9.1"
  }
 },
 "nbformat": 4,
 "nbformat_minor": 5
}
