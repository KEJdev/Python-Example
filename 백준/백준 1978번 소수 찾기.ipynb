{
 "cells": [
  {
   "cell_type": "markdown",
   "id": "e6a9cdaf",
   "metadata": {},
   "source": [
    "[문제 링크](https://www.acmicpc.net/problem/1978)"
   ]
  },
  {
   "cell_type": "code",
   "execution_count": 9,
   "id": "94275930",
   "metadata": {},
   "outputs": [
    {
     "name": "stdout",
     "output_type": "stream",
     "text": [
      "4\n"
     ]
    }
   ],
   "source": [
    "k = int(input())"
   ]
  },
  {
   "cell_type": "code",
   "execution_count": 50,
   "id": "d1e10490",
   "metadata": {},
   "outputs": [],
   "source": [
    "def is_prime_number(x):\n",
    "    for i in range(2, x):\n",
    "        if x % i == 0:\n",
    "            return False\n",
    "    return True"
   ]
  },
  {
   "cell_type": "code",
   "execution_count": 53,
   "id": "44bc11a5",
   "metadata": {},
   "outputs": [
    {
     "name": "stdout",
     "output_type": "stream",
     "text": [
      "1 3 5 7\n",
      "3\n"
     ]
    }
   ],
   "source": [
    "cnt=0\n",
    "num = list(map(int, input().split(' ')))\n",
    "for i in num:\n",
    "    if i == 1 :\n",
    "        pass\n",
    "    elif is_prime_number(i) == True:\n",
    "        cnt+=1\n",
    "print(cnt)"
   ]
  }
 ],
 "metadata": {
  "kernelspec": {
   "display_name": "Python 3 (ipykernel)",
   "language": "python",
   "name": "python3"
  },
  "language_info": {
   "codemirror_mode": {
    "name": "ipython",
    "version": 3
   },
   "file_extension": ".py",
   "mimetype": "text/x-python",
   "name": "python",
   "nbconvert_exporter": "python",
   "pygments_lexer": "ipython3",
   "version": "3.9.16"
  }
 },
 "nbformat": 4,
 "nbformat_minor": 5
}
