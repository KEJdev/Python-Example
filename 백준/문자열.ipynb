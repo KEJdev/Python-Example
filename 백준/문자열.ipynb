{
 "cells": [
  {
   "cell_type": "markdown",
   "id": "4528a220",
   "metadata": {},
   "source": [
    "[문제 링크](https://www.acmicpc.net/status?user_id=0_0a&problem_id=9086&from_mine=1)"
   ]
  },
  {
   "cell_type": "code",
   "execution_count": 4,
   "id": "c047b6f0",
   "metadata": {},
   "outputs": [
    {
     "name": "stdout",
     "output_type": "stream",
     "text": [
      "3\n"
     ]
    }
   ],
   "source": [
    "N = int(input())"
   ]
  },
  {
   "cell_type": "code",
   "execution_count": 10,
   "id": "51a3290d",
   "metadata": {},
   "outputs": [
    {
     "name": "stdout",
     "output_type": "stream",
     "text": [
      "AB\n",
      "AB\n",
      "O\n",
      "OO\n",
      "ACDKJFOWIEGHE\n",
      "AE\n"
     ]
    }
   ],
   "source": [
    "for _ in range(N):\n",
    "    S = input()\n",
    "    print(S[0]+ S[-1])"
   ]
  }
 ],
 "metadata": {
  "kernelspec": {
   "display_name": "Python 3 (ipykernel)",
   "language": "python",
   "name": "python3"
  },
  "language_info": {
   "codemirror_mode": {
    "name": "ipython",
    "version": 3
   },
   "file_extension": ".py",
   "mimetype": "text/x-python",
   "name": "python",
   "nbconvert_exporter": "python",
   "pygments_lexer": "ipython3",
   "version": "3.9.16"
  }
 },
 "nbformat": 4,
 "nbformat_minor": 5
}
