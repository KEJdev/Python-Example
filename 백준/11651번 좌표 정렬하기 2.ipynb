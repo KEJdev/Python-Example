{
 "cells": [
  {
   "cell_type": "markdown",
   "id": "222d8e48",
   "metadata": {},
   "source": [
    "[문제 링크](https://www.acmicpc.net/problem/11651)"
   ]
  },
  {
   "cell_type": "code",
   "execution_count": null,
   "id": "b2af0030",
   "metadata": {},
   "outputs": [],
   "source": [
    "from operator import itemgetter\n",
    "n = int(input())\n",
    "temp = []\n",
    "for i in range(n):\n",
    "    temp.append(list(map(int, input().split(' '))))\n",
    "for i in sorted(temp, key = itemgetter(1,0)):\n",
    "    print(*i)"
   ]
  }
 ],
 "metadata": {
  "kernelspec": {
   "display_name": "Python 3",
   "language": "python",
   "name": "python3"
  },
  "language_info": {
   "codemirror_mode": {
    "name": "ipython",
    "version": 3
   },
   "file_extension": ".py",
   "mimetype": "text/x-python",
   "name": "python",
   "nbconvert_exporter": "python",
   "pygments_lexer": "ipython3",
   "version": "3.9.1"
  }
 },
 "nbformat": 4,
 "nbformat_minor": 5
}
