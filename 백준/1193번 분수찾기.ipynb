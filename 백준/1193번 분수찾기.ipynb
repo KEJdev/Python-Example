{
 "cells": [
  {
   "cell_type": "markdown",
   "id": "01b241e7",
   "metadata": {},
   "source": [
    "[문제 링크](https://www.acmicpc.net/problem/1193)"
   ]
  },
  {
   "cell_type": "code",
   "execution_count": 149,
   "id": "272787ba",
   "metadata": {},
   "outputs": [
    {
     "name": "stdout",
     "output_type": "stream",
     "text": [
      "14\n"
     ]
    }
   ],
   "source": [
    "x = int(input())"
   ]
  },
  {
   "cell_type": "code",
   "execution_count": 150,
   "id": "939148d2",
   "metadata": {},
   "outputs": [
    {
     "name": "stdout",
     "output_type": "stream",
     "text": [
      "2/4\n"
     ]
    }
   ],
   "source": [
    "num_group, group_index=0,0 \n",
    "for groups in range(1,x+1):\n",
    "    num_group+=groups\n",
    "    if num_group >= x:\n",
    "        group_index = groups - (num_group-x)\n",
    "        if (groups%2 == 0):\n",
    "            print(str(group_index)+'/'+str(groups-(group_index)+1))\n",
    "        else:\n",
    "            print(str(groups-(group_index)+1)+'/'+str(group_index))\n",
    "        break"
   ]
  }
 ],
 "metadata": {
  "kernelspec": {
   "display_name": "Python 3 (ipykernel)",
   "language": "python",
   "name": "python3"
  },
  "language_info": {
   "codemirror_mode": {
    "name": "ipython",
    "version": 3
   },
   "file_extension": ".py",
   "mimetype": "text/x-python",
   "name": "python",
   "nbconvert_exporter": "python",
   "pygments_lexer": "ipython3",
   "version": "3.9.7"
  }
 },
 "nbformat": 4,
 "nbformat_minor": 5
}
