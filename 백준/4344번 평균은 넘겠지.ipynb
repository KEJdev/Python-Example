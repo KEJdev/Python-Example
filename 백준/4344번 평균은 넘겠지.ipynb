{
 "cells": [
  {
   "cell_type": "markdown",
   "id": "78ccb29c",
   "metadata": {},
   "source": [
    "[문제 링크](https://www.acmicpc.net/problem/4344)"
   ]
  },
  {
   "cell_type": "code",
   "execution_count": 71,
   "id": "0ef3fc7b",
   "metadata": {},
   "outputs": [
    {
     "name": "stdout",
     "output_type": "stream",
     "text": [
      "5\n"
     ]
    }
   ],
   "source": [
    "k = int(input())"
   ]
  },
  {
   "cell_type": "code",
   "execution_count": 76,
   "id": "6936c4f4",
   "metadata": {},
   "outputs": [
    {
     "name": "stdout",
     "output_type": "stream",
     "text": [
      "5 50 50 70 80 100\n",
      "40.000%\n",
      "5 50 50 70 80 100\n",
      "40.000%\n",
      "5 50 50 70 80 100\n",
      "40.000%\n",
      "5 50 50 70 80 100\n",
      "40.000%\n",
      "5 50 50 70 80 100\n",
      "40.000%\n"
     ]
    }
   ],
   "source": [
    "for _ in range(k):\n",
    "    temp = list(map(int, input().split(' ')))\n",
    "    student = temp[0]\n",
    "    avg = sum(temp[1:])/student\n",
    "    \n",
    "    df = len(list(filter(lambda x : x>avg , temp[1:])))\n",
    "    r = (df/student)*100\n",
    "    print('{0:.3f}%'.format(r))  "
   ]
  }
 ],
 "metadata": {
  "kernelspec": {
   "display_name": "Python 3 (ipykernel)",
   "language": "python",
   "name": "python3"
  },
  "language_info": {
   "codemirror_mode": {
    "name": "ipython",
    "version": 3
   },
   "file_extension": ".py",
   "mimetype": "text/x-python",
   "name": "python",
   "nbconvert_exporter": "python",
   "pygments_lexer": "ipython3",
   "version": "3.9.7"
  }
 },
 "nbformat": 4,
 "nbformat_minor": 5
}
