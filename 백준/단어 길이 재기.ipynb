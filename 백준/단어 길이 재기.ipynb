{
 "cells": [
  {
   "cell_type": "markdown",
   "id": "d816fe81",
   "metadata": {},
   "source": [
    "[문제 링크](https://www.acmicpc.net/problem/2743)"
   ]
  },
  {
   "cell_type": "code",
   "execution_count": 1,
   "id": "7fd4b53f",
   "metadata": {},
   "outputs": [
    {
     "name": "stdout",
     "output_type": "stream",
     "text": [
      "pulljima\n",
      "8\n"
     ]
    }
   ],
   "source": [
    "print(len(list(input())))"
   ]
  }
 ],
 "metadata": {
  "kernelspec": {
   "display_name": "Python 3 (ipykernel)",
   "language": "python",
   "name": "python3"
  },
  "language_info": {
   "codemirror_mode": {
    "name": "ipython",
    "version": 3
   },
   "file_extension": ".py",
   "mimetype": "text/x-python",
   "name": "python",
   "nbconvert_exporter": "python",
   "pygments_lexer": "ipython3",
   "version": "3.9.16"
  }
 },
 "nbformat": 4,
 "nbformat_minor": 5
}
