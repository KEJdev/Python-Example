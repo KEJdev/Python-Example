{
 "cells": [
  {
   "cell_type": "markdown",
   "id": "d2bbd6c8",
   "metadata": {},
   "source": [
    "[문제링크](https://www.acmicpc.net/status?user_id=0_0a&problem_id=11718&from_mine=1)"
   ]
  },
  {
   "cell_type": "code",
   "execution_count": null,
   "id": "015e98b4",
   "metadata": {},
   "outputs": [],
   "source": [
    "while True:\n",
    "    try:\n",
    "        S = input()\n",
    "        print(S)\n",
    "        if len(S) == '':\n",
    "            break\n",
    "    except EOFError:\n",
    "        break"
   ]
  }
 ],
 "metadata": {
  "kernelspec": {
   "display_name": "Python 3 (ipykernel)",
   "language": "python",
   "name": "python3"
  },
  "language_info": {
   "codemirror_mode": {
    "name": "ipython",
    "version": 3
   },
   "file_extension": ".py",
   "mimetype": "text/x-python",
   "name": "python",
   "nbconvert_exporter": "python",
   "pygments_lexer": "ipython3",
   "version": "3.9.16"
  }
 },
 "nbformat": 4,
 "nbformat_minor": 5
}
