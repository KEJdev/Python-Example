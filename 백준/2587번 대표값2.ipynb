{
 "cells": [
  {
   "cell_type": "markdown",
   "id": "b6f1352b",
   "metadata": {},
   "source": [
    "[문제 링크](https://www.acmicpc.net/problem/2587)"
   ]
  },
  {
   "cell_type": "code",
   "execution_count": 14,
   "id": "f96903cb",
   "metadata": {},
   "outputs": [
    {
     "name": "stdout",
     "output_type": "stream",
     "text": [
      "10\n",
      "30\n",
      "40\n",
      "30\n",
      "60\n",
      "34\n",
      "30\n"
     ]
    }
   ],
   "source": [
    "num_list = []\n",
    "for i in range(5):\n",
    "    num_list.append(int(input()))\n",
    "print(int(sum(num_list)/len(num_list)))\n",
    "print(sorted(num_list)[2])"
   ]
  }
 ],
 "metadata": {
  "kernelspec": {
   "display_name": "Python 3",
   "language": "python",
   "name": "python3"
  },
  "language_info": {
   "codemirror_mode": {
    "name": "ipython",
    "version": 3
   },
   "file_extension": ".py",
   "mimetype": "text/x-python",
   "name": "python",
   "nbconvert_exporter": "python",
   "pygments_lexer": "ipython3",
   "version": "3.9.1"
  }
 },
 "nbformat": 4,
 "nbformat_minor": 5
}
