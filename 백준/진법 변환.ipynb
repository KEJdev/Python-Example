{
 "cells": [
  {
   "cell_type": "markdown",
   "id": "7bd07e48",
   "metadata": {},
   "source": [
    "[문제 링크](https://www.acmicpc.net/problem/2745)"
   ]
  },
  {
   "cell_type": "code",
   "execution_count": 82,
   "id": "d879ee20",
   "metadata": {},
   "outputs": [
    {
     "name": "stdout",
     "output_type": "stream",
     "text": [
      "ZZZZZ 36\n"
     ]
    }
   ],
   "source": [
    "N,B = list(input().split())"
   ]
  },
  {
   "cell_type": "code",
   "execution_count": 83,
   "id": "11d1a9e8",
   "metadata": {},
   "outputs": [],
   "source": [
    "result=0\n",
    "for i,j in enumerate(N):\n",
    "    result+=int(j, int(B))*int(B)**(len(N)-(i+1))"
   ]
  },
  {
   "cell_type": "code",
   "execution_count": 84,
   "id": "cf7706e9",
   "metadata": {},
   "outputs": [
    {
     "data": {
      "text/plain": [
       "60466175"
      ]
     },
     "execution_count": 84,
     "metadata": {},
     "output_type": "execute_result"
    }
   ],
   "source": [
    "result"
   ]
  },
  {
   "cell_type": "markdown",
   "id": "411c8f16",
   "metadata": {},
   "source": [
    "간결한 코드 ......"
   ]
  },
  {
   "cell_type": "markdown",
   "id": "4d80fecf",
   "metadata": {},
   "source": [
    "int(n, base)는 파이썬에서 제공하는 내장 함수로, N진법의 문자열을 10진법 정수로 쉽게 변환시켜 줌..ㅠㅠ"
   ]
  },
  {
   "cell_type": "code",
   "execution_count": 85,
   "id": "0778cdde",
   "metadata": {},
   "outputs": [
    {
     "name": "stdout",
     "output_type": "stream",
     "text": [
      "ZZZZZ 36\n",
      "60466175\n"
     ]
    }
   ],
   "source": [
    "n,b=input().split()\n",
    "print(int(n,int(b)))"
   ]
  },
  {
   "cell_type": "code",
   "execution_count": 87,
   "id": "ca48bdae",
   "metadata": {},
   "outputs": [
    {
     "data": {
      "text/plain": [
       "60466175"
      ]
     },
     "execution_count": 87,
     "metadata": {},
     "output_type": "execute_result"
    }
   ],
   "source": [
    "int(n,int(b))"
   ]
  }
 ],
 "metadata": {
  "kernelspec": {
   "display_name": "Python 3 (ipykernel)",
   "language": "python",
   "name": "python3"
  },
  "language_info": {
   "codemirror_mode": {
    "name": "ipython",
    "version": 3
   },
   "file_extension": ".py",
   "mimetype": "text/x-python",
   "name": "python",
   "nbconvert_exporter": "python",
   "pygments_lexer": "ipython3",
   "version": "3.9.7"
  }
 },
 "nbformat": 4,
 "nbformat_minor": 5
}
