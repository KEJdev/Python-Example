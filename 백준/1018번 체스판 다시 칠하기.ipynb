{
 "cells": [
  {
   "cell_type": "markdown",
   "id": "69a6753c",
   "metadata": {},
   "source": [
    "[문제 링크](https://www.acmicpc.net/problem/1018)"
   ]
  },
  {
   "cell_type": "code",
   "execution_count": 8,
   "id": "2f00ac70",
   "metadata": {},
   "outputs": [
    {
     "name": "stdout",
     "output_type": "stream",
     "text": [
      "10 13\n"
     ]
    }
   ],
   "source": [
    "N,M = map(int, input().split())"
   ]
  },
  {
   "cell_type": "code",
   "execution_count": 9,
   "id": "de79f764",
   "metadata": {},
   "outputs": [
    {
     "name": "stdout",
     "output_type": "stream",
     "text": [
      "BBBBBBBBWBWBW\n",
      "BBBBBBBBBWBWB\n",
      "BBBBBBBBWBWBW\n",
      "BBBBBBBBBWBWB\n",
      "BBBBBBBBWBWBW\n",
      "BBBBBBBBBWBWB\n",
      "BBBBBBBBWBWBW\n",
      "BBBBBBBBBWBWB\n",
      "WWWWWWWWWWBWB\n",
      "WWWWWWWWWWBWB\n"
     ]
    }
   ],
   "source": [
    "board = []\n",
    "for _ in range(N) :\n",
    "    board.append(input())"
   ]
  },
  {
   "cell_type": "code",
   "execution_count": 43,
   "id": "e57b4c57",
   "metadata": {},
   "outputs": [
    {
     "name": "stdout",
     "output_type": "stream",
     "text": [
      "12\n"
     ]
    }
   ],
   "source": [
    "temp =[]\n",
    "for i in range(N-7):\n",
    "    for k in range(M-7):\n",
    "        b,w = 0,0 \n",
    "        \n",
    "        for i_a in range(i,i+8):\n",
    "            for k_a in range(k,k+8):\n",
    "                if (i_a+k_a)%2 == 0:\n",
    "                    if board[i_a][k_a] != 'W':\n",
    "                        b+=1\n",
    "                    else:\n",
    "                        w+=1\n",
    "                else:\n",
    "                    if board[i_a][k_a] != 'B':\n",
    "                        b+=1\n",
    "                    else:\n",
    "                        w+=1\n",
    "        temp.append(min(b,w))\n",
    "print(min(temp))"
   ]
  },
  {
   "cell_type": "code",
   "execution_count": null,
   "id": "41e8b700",
   "metadata": {},
   "outputs": [],
   "source": []
  }
 ],
 "metadata": {
  "kernelspec": {
   "display_name": "Python 3",
   "language": "python",
   "name": "python3"
  },
  "language_info": {
   "codemirror_mode": {
    "name": "ipython",
    "version": 3
   },
   "file_extension": ".py",
   "mimetype": "text/x-python",
   "name": "python",
   "nbconvert_exporter": "python",
   "pygments_lexer": "ipython3",
   "version": "3.9.1"
  }
 },
 "nbformat": 4,
 "nbformat_minor": 5
}
