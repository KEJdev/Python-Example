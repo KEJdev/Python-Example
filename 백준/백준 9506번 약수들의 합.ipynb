{
 "cells": [
  {
   "cell_type": "markdown",
   "id": "25ac336c",
   "metadata": {},
   "source": [
    "[문제 링크](https://www.acmicpc.net/problem/9506)"
   ]
  },
  {
   "cell_type": "code",
   "execution_count": 121,
   "id": "3502e124",
   "metadata": {},
   "outputs": [
    {
     "name": "stdout",
     "output_type": "stream",
     "text": [
      "28\n"
     ]
    }
   ],
   "source": [
    "num = int(input())"
   ]
  },
  {
   "cell_type": "code",
   "execution_count": 129,
   "id": "96672592",
   "metadata": {},
   "outputs": [
    {
     "name": "stdout",
     "output_type": "stream",
     "text": [
      "28\n",
      "28 = 1 + 2 + 4 + 7 + 14\n",
      "6\n",
      "6 = 1 + 2 + 3\n",
      "-1\n"
     ]
    }
   ],
   "source": [
    "while True:\n",
    "    num = int(input())\n",
    "    if num == -1 : break\n",
    "\n",
    "    divisors = set()\n",
    "    for i in range(1,num+1):\n",
    "        if num % i == 0:\n",
    "            divisors.add(i)\n",
    "            divisors.add(num//i)    \n",
    "            \n",
    "    temp = sorted(list(divisors))[:-1]\n",
    "    if sum(temp) != num:\n",
    "        print(num,\"is NOT perfect.\")\n",
    "    else:\n",
    "        result = []\n",
    "        for i in temp:\n",
    "            result.extend([i,'+'])\n",
    "        print(num,'=',*result[:-1])"
   ]
  },
  {
   "cell_type": "code",
   "execution_count": null,
   "id": "5fa63544",
   "metadata": {},
   "outputs": [],
   "source": []
  },
  {
   "cell_type": "code",
   "execution_count": null,
   "id": "d8df2e9c",
   "metadata": {},
   "outputs": [],
   "source": []
  }
 ],
 "metadata": {
  "kernelspec": {
   "display_name": "Python 3 (ipykernel)",
   "language": "python",
   "name": "python3"
  },
  "language_info": {
   "codemirror_mode": {
    "name": "ipython",
    "version": 3
   },
   "file_extension": ".py",
   "mimetype": "text/x-python",
   "name": "python",
   "nbconvert_exporter": "python",
   "pygments_lexer": "ipython3",
   "version": "3.9.16"
  }
 },
 "nbformat": 4,
 "nbformat_minor": 5
}
