{
 "cells": [
  {
   "cell_type": "markdown",
   "id": "2a28b9e8",
   "metadata": {},
   "source": [
    "[문제 링크](https://www.acmicpc.net/problem/11650)"
   ]
  },
  {
   "cell_type": "code",
   "execution_count": 1,
   "id": "793f5058",
   "metadata": {},
   "outputs": [
    {
     "name": "stdout",
     "output_type": "stream",
     "text": [
      "5\n"
     ]
    }
   ],
   "source": [
    "n = int(input())"
   ]
  },
  {
   "cell_type": "code",
   "execution_count": null,
   "id": "b2028037",
   "metadata": {},
   "outputs": [],
   "source": [
    "import sys\n",
    "n = int(input())\n",
    "temp = []\n",
    "for i in range(n):\n",
    "    temp.append(list(map(int, sys.stdin.readline().split(' '))))\n",
    "for i in sorted(temp):\n",
    "    print(*i)"
   ]
  }
 ],
 "metadata": {
  "kernelspec": {
   "display_name": "Python 3",
   "language": "python",
   "name": "python3"
  },
  "language_info": {
   "codemirror_mode": {
    "name": "ipython",
    "version": 3
   },
   "file_extension": ".py",
   "mimetype": "text/x-python",
   "name": "python",
   "nbconvert_exporter": "python",
   "pygments_lexer": "ipython3",
   "version": "3.9.1"
  }
 },
 "nbformat": 4,
 "nbformat_minor": 5
}
