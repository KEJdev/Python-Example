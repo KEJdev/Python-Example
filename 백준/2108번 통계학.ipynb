{
 "cells": [
  {
   "cell_type": "markdown",
   "id": "68c06373",
   "metadata": {},
   "source": [
    "[문제 링크](https://www.acmicpc.net/problem/2108)"
   ]
  },
  {
   "cell_type": "code",
   "execution_count": 353,
   "id": "75283615",
   "metadata": {},
   "outputs": [
    {
     "name": "stdout",
     "output_type": "stream",
     "text": [
      "5\n",
      "1\n",
      "3\n",
      "8\n",
      "-2\n",
      "2\n"
     ]
    }
   ],
   "source": [
    "from collections import Counter\n",
    "import sys\n",
    "\n",
    "def modefinder(temp):\n",
    "    c = Counter(temp)\n",
    "    c = sorted(c.items(), key=lambda x: (-x[1], x[0]))\n",
    "\n",
    "    if len(c) > 1:\n",
    "        if c[0][1] == c[1][1]:\n",
    "            return c[1][0]\n",
    "        else:\n",
    "            return c[0][0]\n",
    "    else:\n",
    "        return c[0][0]\n",
    "\n",
    "def median(l):\n",
    "    half = len(l) // 2\n",
    "    l.sort()\n",
    "    if not len(l) % 2:\n",
    "        return (l[half - 1] + l[half]) / 2.0\n",
    "    return l[half]\n",
    "\n",
    "n = int(input())\n",
    "temp = []\n",
    "for i in range(n):\n",
    "    temp.append(int(sys.stdin.readline()))"
   ]
  },
  {
   "cell_type": "code",
   "execution_count": 354,
   "id": "35551ad6",
   "metadata": {},
   "outputs": [
    {
     "name": "stdout",
     "output_type": "stream",
     "text": [
      "2\n",
      "2\n",
      "1\n",
      "10\n"
     ]
    }
   ],
   "source": [
    "print(round(sum(temp)/len(temp))) # 평균\n",
    "print(median(temp)) # 중앙값\n",
    "print(modefinder(temp))# 최빈값\n",
    "print(abs(min(temp)-max(temp))) # 범위"
   ]
  }
 ],
 "metadata": {
  "kernelspec": {
   "display_name": "Python 3",
   "language": "python",
   "name": "python3"
  },
  "language_info": {
   "codemirror_mode": {
    "name": "ipython",
    "version": 3
   },
   "file_extension": ".py",
   "mimetype": "text/x-python",
   "name": "python",
   "nbconvert_exporter": "python",
   "pygments_lexer": "ipython3",
   "version": "3.9.1"
  }
 },
 "nbformat": 4,
 "nbformat_minor": 5
}
