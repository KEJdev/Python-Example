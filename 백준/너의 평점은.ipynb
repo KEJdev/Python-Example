{
 "cells": [
  {
   "cell_type": "markdown",
   "id": "bdd7980c",
   "metadata": {},
   "source": [
    "[문제 링크](https://www.acmicpc.net/problem/25206)"
   ]
  },
  {
   "cell_type": "code",
   "execution_count": 27,
   "id": "0f7fef4b",
   "metadata": {},
   "outputs": [],
   "source": [
    "subject = {\"A+\" : 4.5, \"A0\": 4.0, \"B+\":3.5, \n",
    "           \"B0\":3.0, \"C+\":2.5, \"C0\":2.0,\"D+\":1.5,\n",
    "           \"D0\":1.0, \"F\":0.0}"
   ]
  },
  {
   "cell_type": "code",
   "execution_count": 42,
   "id": "3048fde9",
   "metadata": {},
   "outputs": [
    {
     "name": "stdout",
     "output_type": "stream",
     "text": [
      "ObjectOrientedProgramming1 3.0 A+\n",
      "IntroductiontoComputerEngineering 3.0 A+\n",
      "ObjectOrientedProgramming2 3.0 A0\n",
      "CreativeComputerEngineeringDesign 3.0 A+\n",
      "AssemblyLanguage 3.0 A+\n",
      "InternetProgramming 3.0 B0\n",
      "ApplicationProgramminginJava 3.0 A0\n",
      "SystemProgramming 3.0 B0\n",
      "OperatingSystem 3.0 B0\n",
      "WirelessCommunicationsandNetworking 3.0 C+\n",
      "LogicCircuits 3.0 B0\n",
      "DataStructure 4.0 A+\n",
      "MicroprocessorApplication 3.0 B+\n",
      "EmbeddedSoftware 3.0 C0\n",
      "ComputerSecurity 3.0 D+\n",
      "Database 3.0 C+\n",
      "Algorithm 3.0 B0\n",
      "CapstoneDesigninCSE 3.0 B+\n",
      "CompilerDesign 3.0 D0\n",
      "ProblemSolving 4.0 P\n"
     ]
    }
   ],
   "source": [
    "grades, avg = 0, 0\n",
    "for i in range(20):\n",
    "    S = list(input().split(\" \"))\n",
    "    if S[2] != 'P':\n",
    "        grades += float(S[1]) * subject[S[2]]\n",
    "        avg += float(S[1])\n",
    "    else : \n",
    "        pass "
   ]
  },
  {
   "cell_type": "code",
   "execution_count": 43,
   "id": "e4030947",
   "metadata": {},
   "outputs": [
    {
     "data": {
      "text/plain": [
       "3.2844827586206895"
      ]
     },
     "execution_count": 43,
     "metadata": {},
     "output_type": "execute_result"
    }
   ],
   "source": [
    "grades/avg"
   ]
  }
 ],
 "metadata": {
  "kernelspec": {
   "display_name": "Python 3 (ipykernel)",
   "language": "python",
   "name": "python3"
  },
  "language_info": {
   "codemirror_mode": {
    "name": "ipython",
    "version": 3
   },
   "file_extension": ".py",
   "mimetype": "text/x-python",
   "name": "python",
   "nbconvert_exporter": "python",
   "pygments_lexer": "ipython3",
   "version": "3.9.16"
  }
 },
 "nbformat": 4,
 "nbformat_minor": 5
}
