{
 "cells": [
  {
   "cell_type": "markdown",
   "id": "43c66189",
   "metadata": {},
   "source": [
    "[문제 링크](https://www.acmicpc.net/problem/15596)"
   ]
  },
  {
   "cell_type": "code",
   "execution_count": 27,
   "id": "89427b55",
   "metadata": {},
   "outputs": [],
   "source": [
    "def solve(a):\n",
    "    return sum(a)"
   ]
  },
  {
   "cell_type": "markdown",
   "id": "757bc9cd",
   "metadata": {},
   "source": [
    "숏코딩을 살펴보면 아래와 같은 코드도 볼 수 있다."
   ]
  },
  {
   "cell_type": "code",
   "execution_count": 36,
   "id": "d49b91be",
   "metadata": {},
   "outputs": [],
   "source": [
    "solve=sum"
   ]
  },
  {
   "cell_type": "markdown",
   "id": "41754170",
   "metadata": {},
   "source": [
    "일종의 alias라고 볼 수 있으며, solve가 호출 되는 것은 sum이 호출되는 것과 같다."
   ]
  }
 ],
 "metadata": {
  "kernelspec": {
   "display_name": "Python 3 (ipykernel)",
   "language": "python",
   "name": "python3"
  },
  "language_info": {
   "codemirror_mode": {
    "name": "ipython",
    "version": 3
   },
   "file_extension": ".py",
   "mimetype": "text/x-python",
   "name": "python",
   "nbconvert_exporter": "python",
   "pygments_lexer": "ipython3",
   "version": "3.9.7"
  }
 },
 "nbformat": 4,
 "nbformat_minor": 5
}
