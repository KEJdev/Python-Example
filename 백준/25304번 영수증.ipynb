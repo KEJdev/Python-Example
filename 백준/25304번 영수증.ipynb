{
 "cells": [
  {
   "cell_type": "markdown",
   "id": "cde877a8",
   "metadata": {},
   "source": [
    "[백준 25304](https://www.acmicpc.net/problem/25304)"
   ]
  },
  {
   "cell_type": "code",
   "execution_count": null,
   "id": "096a40f1",
   "metadata": {},
   "outputs": [],
   "source": [
    "result_money = int(input())\n",
    "cnt = int(input())\n",
    "result = 0\n",
    "for val in range(cnt):\n",
    "    money, mul = list(map(int, input().split(' ')))\n",
    "    result+=money*mul \n",
    "\n",
    "if result == result_money:\n",
    "    print('Yes')\n",
    "else:\n",
    "    print('No')"
   ]
  }
 ],
 "metadata": {
  "kernelspec": {
   "display_name": "Python 3",
   "language": "python",
   "name": "python3"
  },
  "language_info": {
   "codemirror_mode": {
    "name": "ipython",
    "version": 3
   },
   "file_extension": ".py",
   "mimetype": "text/x-python",
   "name": "python",
   "nbconvert_exporter": "python",
   "pygments_lexer": "ipython3",
   "version": "3.9.1"
  }
 },
 "nbformat": 4,
 "nbformat_minor": 5
}
