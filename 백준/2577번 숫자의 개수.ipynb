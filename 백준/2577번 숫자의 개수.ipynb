{
 "cells": [
  {
   "cell_type": "markdown",
   "id": "465218e0",
   "metadata": {},
   "source": [
    "[문제 링크](https://www.acmicpc.net/source/39222336)"
   ]
  },
  {
   "cell_type": "code",
   "execution_count": 44,
   "id": "30a2775b",
   "metadata": {},
   "outputs": [
    {
     "name": "stdout",
     "output_type": "stream",
     "text": [
      "150\n",
      "266\n",
      "427\n",
      "3\n",
      "1\n",
      "0\n",
      "2\n",
      "0\n",
      "0\n",
      "0\n",
      "2\n",
      "0\n",
      "0\n"
     ]
    }
   ],
   "source": [
    "n1 = int(input())\n",
    "n2 = int(input())\n",
    "n3 = int(input())\n",
    "\n",
    "temp=[0]*10\n",
    "num = str(n1*n2*n3)\n",
    "\n",
    "for val in list(set(num)):\n",
    "    temp[int(val)] = num.count(val)\n",
    "    \n",
    "for val in temp:\n",
    "    print(val)    "
   ]
  }
 ],
 "metadata": {
  "kernelspec": {
   "display_name": "Python 3 (ipykernel)",
   "language": "python",
   "name": "python3"
  },
  "language_info": {
   "codemirror_mode": {
    "name": "ipython",
    "version": 3
   },
   "file_extension": ".py",
   "mimetype": "text/x-python",
   "name": "python",
   "nbconvert_exporter": "python",
   "pygments_lexer": "ipython3",
   "version": "3.9.7"
  }
 },
 "nbformat": 4,
 "nbformat_minor": 5
}
