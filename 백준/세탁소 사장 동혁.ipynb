{
 "cells": [
  {
   "cell_type": "markdown",
   "id": "60f9a94e",
   "metadata": {},
   "source": [
    "[문제 링크](https://www.acmicpc.net/problem/2720)"
   ]
  },
  {
   "cell_type": "code",
   "execution_count": 249,
   "id": "b6e6da67",
   "metadata": {},
   "outputs": [],
   "source": [
    "Quarter = 25\n",
    "Dime = 10\n",
    "Nickel = 5\n",
    "Penny = 1"
   ]
  },
  {
   "cell_type": "code",
   "execution_count": 256,
   "id": "c96f51fc",
   "metadata": {},
   "outputs": [
    {
     "name": "stdout",
     "output_type": "stream",
     "text": [
      "3\n"
     ]
    }
   ],
   "source": [
    "N = int(input())"
   ]
  },
  {
   "cell_type": "code",
   "execution_count": 271,
   "id": "3ccdaee3",
   "metadata": {},
   "outputs": [
    {
     "name": "stdout",
     "output_type": "stream",
     "text": [
      "124\n",
      "4 2 0 4\n",
      "25\n",
      "1 0 0 0\n",
      "194\n",
      "7 1 1 4\n"
     ]
    }
   ],
   "source": [
    "Quarter = 25\n",
    "Dime = 10\n",
    "Nickel = 5\n",
    "Penny = 1\n",
    "money_list = [Quarter,Dime,Nickel,Penny]\n",
    "\n",
    "for _ in range(N):\n",
    "    result = []\n",
    "    money = int(input())\n",
    "    for m in money_list:\n",
    "        if (money//m) != 0 :\n",
    "            result.append(money//m)\n",
    "            money = money%m\n",
    "        else:\n",
    "            result.append(0)\n",
    "    print(*result)"
   ]
  }
 ],
 "metadata": {
  "kernelspec": {
   "display_name": "Python 3 (ipykernel)",
   "language": "python",
   "name": "python3"
  },
  "language_info": {
   "codemirror_mode": {
    "name": "ipython",
    "version": 3
   },
   "file_extension": ".py",
   "mimetype": "text/x-python",
   "name": "python",
   "nbconvert_exporter": "python",
   "pygments_lexer": "ipython3",
   "version": "3.9.7"
  }
 },
 "nbformat": 4,
 "nbformat_minor": 5
}
