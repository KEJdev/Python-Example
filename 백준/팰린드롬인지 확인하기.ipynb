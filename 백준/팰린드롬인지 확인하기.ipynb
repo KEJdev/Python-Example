{
 "cells": [
  {
   "cell_type": "markdown",
   "id": "2101aef6",
   "metadata": {},
   "source": [
    "[문제 링크](https://www.acmicpc.net/problem/10988)"
   ]
  },
  {
   "cell_type": "code",
   "execution_count": 9,
   "id": "5535bc58",
   "metadata": {},
   "outputs": [
    {
     "name": "stdout",
     "output_type": "stream",
     "text": [
      "noon\n",
      "1\n"
     ]
    }
   ],
   "source": [
    "S = input()\n",
    "\n",
    "if S == S[::-1]:\n",
    "    print(1)\n",
    "else: \n",
    "    print(0)"
   ]
  }
 ],
 "metadata": {
  "kernelspec": {
   "display_name": "Python 3 (ipykernel)",
   "language": "python",
   "name": "python3"
  },
  "language_info": {
   "codemirror_mode": {
    "name": "ipython",
    "version": 3
   },
   "file_extension": ".py",
   "mimetype": "text/x-python",
   "name": "python",
   "nbconvert_exporter": "python",
   "pygments_lexer": "ipython3",
   "version": "3.9.16"
  }
 },
 "nbformat": 4,
 "nbformat_minor": 5
}
