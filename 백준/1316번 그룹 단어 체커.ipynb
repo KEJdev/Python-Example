{
 "cells": [
  {
   "cell_type": "markdown",
   "metadata": {},
   "source": [
    "[문제 링크](https://www.acmicpc.net/problem/1316)"
   ]
  },
  {
   "cell_type": "code",
   "execution_count": 32,
   "metadata": {},
   "outputs": [],
   "source": [
    "num = int(input())"
   ]
  },
  {
   "cell_type": "code",
   "execution_count": 33,
   "metadata": {},
   "outputs": [
    {
     "name": "stdout",
     "output_type": "stream",
     "text": [
      "5\n"
     ]
    }
   ],
   "source": [
    "cnt = 0\n",
    "\n",
    "for _ in range(num):\n",
    "    ck = 0\n",
    "    temp = input()\n",
    "    for i in set(temp):\n",
    "        if temp.count(i) == 1:\n",
    "            pass\n",
    "        else:\n",
    "            res = list(filter(lambda x : temp[x]==i, range(len(temp))))\n",
    "            for i in range(len(res)-1):\n",
    "                if (res[i]-res[i+1]) != -1:\n",
    "                    ck += -1\n",
    "                    break\n",
    "    if ck == 0:\n",
    "        cnt += 1\n",
    "print(cnt)    "
   ]
  },
  {
   "cell_type": "code",
   "execution_count": 37,
   "metadata": {},
   "outputs": [
    {
     "name": "stdout",
     "output_type": "stream",
     "text": [
      "-1\n"
     ]
    }
   ],
   "source": [
    "print(sum([*x]==sorted(x,key=x.find)for x in open(0))-1)"
   ]
  }
 ],
 "metadata": {
  "interpreter": {
   "hash": "88afb576fd67d37a980a62a6a06e9eae3c36e3682af70ccc53c7557195de2ff4"
  },
  "kernelspec": {
   "display_name": "Python 3.9.1 ('oai-lab')",
   "language": "python",
   "name": "python3"
  },
  "language_info": {
   "codemirror_mode": {
    "name": "ipython",
    "version": 3
   },
   "file_extension": ".py",
   "mimetype": "text/x-python",
   "name": "python",
   "nbconvert_exporter": "python",
   "pygments_lexer": "ipython3",
   "version": "3.9.1"
  },
  "orig_nbformat": 4
 },
 "nbformat": 4,
 "nbformat_minor": 2
}
