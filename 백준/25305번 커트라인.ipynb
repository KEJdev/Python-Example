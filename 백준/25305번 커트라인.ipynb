{
 "cells": [
  {
   "cell_type": "markdown",
   "id": "85bcc63b",
   "metadata": {},
   "source": [
    "[문제링크](https://www.acmicpc.net/problem/25305)"
   ]
  },
  {
   "cell_type": "code",
   "execution_count": 4,
   "id": "1d626878",
   "metadata": {},
   "outputs": [
    {
     "name": "stdout",
     "output_type": "stream",
     "text": [
      "5 2\n"
     ]
    }
   ],
   "source": [
    "num = list(map(int, input().split(' ')))"
   ]
  },
  {
   "cell_type": "code",
   "execution_count": 29,
   "id": "eaa35a30",
   "metadata": {},
   "outputs": [
    {
     "name": "stdout",
     "output_type": "stream",
     "text": [
      "100 76 85 93 98\n"
     ]
    }
   ],
   "source": [
    "score = list(map(int, input().split(' ')))"
   ]
  },
  {
   "cell_type": "code",
   "execution_count": 31,
   "id": "595dd04e",
   "metadata": {},
   "outputs": [
    {
     "data": {
      "text/plain": [
       "98"
      ]
     },
     "execution_count": 31,
     "metadata": {},
     "output_type": "execute_result"
    }
   ],
   "source": [
    "sorted(score, reverse=True)[num[1]-1]"
   ]
  }
 ],
 "metadata": {
  "kernelspec": {
   "display_name": "Python 3 (ipykernel)",
   "language": "python",
   "name": "python3"
  },
  "language_info": {
   "codemirror_mode": {
    "name": "ipython",
    "version": 3
   },
   "file_extension": ".py",
   "mimetype": "text/x-python",
   "name": "python",
   "nbconvert_exporter": "python",
   "pygments_lexer": "ipython3",
   "version": "3.9.7"
  }
 },
 "nbformat": 4,
 "nbformat_minor": 5
}
