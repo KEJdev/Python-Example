{
 "cells": [
  {
   "cell_type": "markdown",
   "id": "c7ab1f27",
   "metadata": {},
   "source": [
    "[문제 링크](https://www.acmicpc.net/problem/1181)"
   ]
  },
  {
   "cell_type": "code",
   "execution_count": 1,
   "id": "1b737637",
   "metadata": {},
   "outputs": [
    {
     "name": "stdout",
     "output_type": "stream",
     "text": [
      "13\n"
     ]
    }
   ],
   "source": [
    "num = int(input())"
   ]
  },
  {
   "cell_type": "code",
   "execution_count": 2,
   "id": "e49be9d4",
   "metadata": {},
   "outputs": [
    {
     "name": "stdout",
     "output_type": "stream",
     "text": [
      "but\n",
      "i\n",
      "wont\n",
      "hesitate\n",
      "no\n",
      "more\n",
      "no\n",
      "more\n",
      "it\n",
      "cannot\n",
      "wait\n",
      "im\n",
      "yours\n"
     ]
    }
   ],
   "source": [
    "word_list = []\n",
    "for _ in range(num):\n",
    "    word_list.append(input())"
   ]
  },
  {
   "cell_type": "code",
   "execution_count": 3,
   "id": "31db82f3",
   "metadata": {},
   "outputs": [
    {
     "data": {
      "text/plain": [
       "['but',\n",
       " 'i',\n",
       " 'wont',\n",
       " 'hesitate',\n",
       " 'no',\n",
       " 'more',\n",
       " 'no',\n",
       " 'more',\n",
       " 'it',\n",
       " 'cannot',\n",
       " 'wait',\n",
       " 'im',\n",
       " 'yours']"
      ]
     },
     "execution_count": 3,
     "metadata": {},
     "output_type": "execute_result"
    }
   ],
   "source": [
    "word_list"
   ]
  },
  {
   "cell_type": "code",
   "execution_count": 5,
   "id": "0909adf4",
   "metadata": {},
   "outputs": [
    {
     "name": "stdout",
     "output_type": "stream",
     "text": [
      "but\n",
      "i\n",
      "wont\n",
      "hesitate\n",
      "no\n",
      "more\n",
      "no\n",
      "more\n",
      "it\n",
      "cannot\n",
      "wait\n",
      "im\n",
      "yours\n"
     ]
    }
   ],
   "source": [
    "for word in word_list:\n",
    "    "
   ]
  },
  {
   "cell_type": "code",
   "execution_count": null,
   "id": "539b1b51",
   "metadata": {},
   "outputs": [],
   "source": []
  },
  {
   "cell_type": "code",
   "execution_count": null,
   "id": "8cac3fae",
   "metadata": {},
   "outputs": [],
   "source": []
  },
  {
   "cell_type": "code",
   "execution_count": null,
   "id": "bbcc4c58",
   "metadata": {},
   "outputs": [],
   "source": []
  },
  {
   "cell_type": "code",
   "execution_count": null,
   "id": "713d83e4",
   "metadata": {},
   "outputs": [],
   "source": []
  },
  {
   "cell_type": "code",
   "execution_count": null,
   "id": "cbf00f0b",
   "metadata": {},
   "outputs": [],
   "source": []
  }
 ],
 "metadata": {
  "kernelspec": {
   "display_name": "Python 3",
   "language": "python",
   "name": "python3"
  },
  "language_info": {
   "codemirror_mode": {
    "name": "ipython",
    "version": 3
   },
   "file_extension": ".py",
   "mimetype": "text/x-python",
   "name": "python",
   "nbconvert_exporter": "python",
   "pygments_lexer": "ipython3",
   "version": "3.9.1"
  }
 },
 "nbformat": 4,
 "nbformat_minor": 5
}
