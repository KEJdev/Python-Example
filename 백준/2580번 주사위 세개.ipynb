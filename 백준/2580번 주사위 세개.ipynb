{
 "cells": [
  {
   "cell_type": "markdown",
   "id": "7c934834",
   "metadata": {},
   "source": [
    "[문제 링크](https://www.acmicpc.net/problem/2480)"
   ]
  },
  {
   "cell_type": "code",
   "execution_count": 94,
   "id": "acc8433c",
   "metadata": {},
   "outputs": [
    {
     "name": "stdout",
     "output_type": "stream",
     "text": [
      "4 5 3\n"
     ]
    }
   ],
   "source": [
    "dice = list(map(int,input().split(' ')))"
   ]
  },
  {
   "cell_type": "code",
   "execution_count": 95,
   "id": "4016a656",
   "metadata": {},
   "outputs": [
    {
     "name": "stdout",
     "output_type": "stream",
     "text": [
      "500\n"
     ]
    }
   ],
   "source": [
    "if len(set(dice)) == 3:\n",
    "    print(max(dice)*100)    \n",
    "\n",
    "for idx in set(dice):\n",
    "    if dice.count(idx) == 2:\n",
    "        print(1000+idx*100)\n",
    "        \n",
    "    if len(set(dice)) == 1:\n",
    "        print(10000+idx*1000) "
   ]
  }
 ],
 "metadata": {
  "kernelspec": {
   "display_name": "Python 3",
   "language": "python",
   "name": "python3"
  },
  "language_info": {
   "codemirror_mode": {
    "name": "ipython",
    "version": 3
   },
   "file_extension": ".py",
   "mimetype": "text/x-python",
   "name": "python",
   "nbconvert_exporter": "python",
   "pygments_lexer": "ipython3",
   "version": "3.9.1"
  }
 },
 "nbformat": 4,
 "nbformat_minor": 5
}
