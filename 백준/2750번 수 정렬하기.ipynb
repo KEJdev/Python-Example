{
 "cells": [
  {
   "cell_type": "markdown",
   "id": "c1e7ea08",
   "metadata": {},
   "source": [
    "[문제 링크](https://www.acmicpc.net/problem/2750)"
   ]
  },
  {
   "cell_type": "code",
   "execution_count": 14,
   "id": "74511dba",
   "metadata": {},
   "outputs": [
    {
     "name": "stdout",
     "output_type": "stream",
     "text": [
      "5\n",
      "1\n",
      "2\n",
      "3\n",
      "4\n",
      "1\n",
      "2\n",
      "3\n",
      "4\n",
      "5\n"
     ]
    }
   ],
   "source": [
    "num = int(input())\n",
    "\n",
    "temp = []\n",
    "for i in range(num):\n",
    "    temp.append(int(input()))\n",
    "\n",
    "for i in sorted(temp):\n",
    "    print(i)"
   ]
  }
 ],
 "metadata": {
  "kernelspec": {
   "display_name": "Python 3",
   "language": "python",
   "name": "python3"
  },
  "language_info": {
   "codemirror_mode": {
    "name": "ipython",
    "version": 3
   },
   "file_extension": ".py",
   "mimetype": "text/x-python",
   "name": "python",
   "nbconvert_exporter": "python",
   "pygments_lexer": "ipython3",
   "version": "3.9.1"
  }
 },
 "nbformat": 4,
 "nbformat_minor": 5
}
