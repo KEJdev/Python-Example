{
 "cells": [
  {
   "cell_type": "markdown",
   "id": "815780b5",
   "metadata": {},
   "source": [
    "[문제 링크](https://www.acmicpc.net/problem/2798)"
   ]
  },
  {
   "cell_type": "code",
   "execution_count": 97,
   "id": "f2f04b7d",
   "metadata": {},
   "outputs": [
    {
     "name": "stdout",
     "output_type": "stream",
     "text": [
      "10 500\n"
     ]
    }
   ],
   "source": [
    "k_cnt = list(map(int,input().split(' ')))"
   ]
  },
  {
   "cell_type": "code",
   "execution_count": 98,
   "id": "0ec0a700",
   "metadata": {},
   "outputs": [
    {
     "name": "stdout",
     "output_type": "stream",
     "text": [
      "93 181 245 214 315 36 185 138 216 295\n"
     ]
    }
   ],
   "source": [
    "k_num = list(map(int, input().split(' ')))"
   ]
  },
  {
   "cell_type": "code",
   "execution_count": 99,
   "id": "75b512cf",
   "metadata": {},
   "outputs": [
    {
     "data": {
      "text/plain": [
       "[10, 500]"
      ]
     },
     "execution_count": 99,
     "metadata": {},
     "output_type": "execute_result"
    }
   ],
   "source": [
    "k_cnt"
   ]
  },
  {
   "cell_type": "code",
   "execution_count": 100,
   "id": "558e31b2",
   "metadata": {},
   "outputs": [
    {
     "data": {
      "text/plain": [
       "[93, 181, 245, 214, 315, 36, 185, 138, 216, 295]"
      ]
     },
     "execution_count": 100,
     "metadata": {},
     "output_type": "execute_result"
    }
   ],
   "source": [
    "k_num"
   ]
  },
  {
   "cell_type": "code",
   "execution_count": 101,
   "id": "b2015f7b",
   "metadata": {},
   "outputs": [
    {
     "name": "stdout",
     "output_type": "stream",
     "text": [
      "497\n"
     ]
    }
   ],
   "source": [
    "temp = []\n",
    "for i in range(0, len(k_num), 2):\n",
    "    for j in range(1, len(k_num), 2):        \n",
    "        for k in range(len(k_num)):\n",
    "            k_sum = k_cnt[1]\n",
    "            if k_num[k] not in [k_num[i], k_num[j]]:\n",
    "                k_sum-=(k_num[i]+k_num[j]+k_num[k])\n",
    "                if k_sum >= 0  :\n",
    "                    temp.append(k_sum)\n",
    "k_sum = k_cnt[1]\n",
    "print(k_sum-min(temp))"
   ]
  },
  {
   "cell_type": "markdown",
   "id": "ce2b510f",
   "metadata": {},
   "source": [
    "다른 사람 숏코딩 ㅠㅠ 대단해..!"
   ]
  },
  {
   "cell_type": "code",
   "execution_count": null,
   "id": "228683d3",
   "metadata": {},
   "outputs": [],
   "source": [
    "from itertools import*\n",
    "n,m,*l=map(int,open(0).read().split())\n",
    "print(max(x for x in map(sum,combinations(l,3))if x<=m))"
   ]
  }
 ],
 "metadata": {
  "kernelspec": {
   "display_name": "Python 3",
   "language": "python",
   "name": "python3"
  },
  "language_info": {
   "codemirror_mode": {
    "name": "ipython",
    "version": 3
   },
   "file_extension": ".py",
   "mimetype": "text/x-python",
   "name": "python",
   "nbconvert_exporter": "python",
   "pygments_lexer": "ipython3",
   "version": "3.9.1"
  }
 },
 "nbformat": 4,
 "nbformat_minor": 5
}
