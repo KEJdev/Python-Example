{
 "cells": [
  {
   "cell_type": "markdown",
   "id": "3b8233d0",
   "metadata": {},
   "source": [
    "[문제 링크](https://www.acmicpc.net/problem/2566)"
   ]
  },
  {
   "cell_type": "code",
   "execution_count": 12,
   "id": "fa7820bd",
   "metadata": {},
   "outputs": [
    {
     "name": "stdout",
     "output_type": "stream",
     "text": [
      "3 23 85 34 17 74 25 52 65\n",
      "10 7 39 42 88 52 14 72 63\n",
      "87 42 18 78 53 45 18 84 53\n",
      "34 28 64 85 12 16 75 36 55\n",
      "21 77 45 35 28 75 90 76 1\n",
      "25 87 65 15 28 11 37 28 74\n",
      "65 27 75 41 7 89 78 64 39\n",
      "47 47 70 45 23 65 3 41 44\n",
      "87 13 82 38 31 12 29 29 80\n"
     ]
    }
   ],
   "source": [
    "num_list = []\n",
    "for i in range(9):\n",
    "    num_list.append(list(map(int,input().split())))"
   ]
  },
  {
   "cell_type": "code",
   "execution_count": 42,
   "id": "a9160336",
   "metadata": {},
   "outputs": [],
   "source": [
    "key,idx = 0, []\n",
    "for i,j in enumerate(num_list):\n",
    "    if key <= max(j):\n",
    "        key = max(j)\n",
    "        idx = [i+1, j.index(key)+1]"
   ]
  },
  {
   "cell_type": "code",
   "execution_count": 43,
   "id": "7164f1a3",
   "metadata": {},
   "outputs": [
    {
     "name": "stdout",
     "output_type": "stream",
     "text": [
      "90\n",
      "5 7\n"
     ]
    }
   ],
   "source": [
    "print(key)\n",
    "print(*idx)"
   ]
  }
 ],
 "metadata": {
  "kernelspec": {
   "display_name": "Python 3 (ipykernel)",
   "language": "python",
   "name": "python3"
  },
  "language_info": {
   "codemirror_mode": {
    "name": "ipython",
    "version": 3
   },
   "file_extension": ".py",
   "mimetype": "text/x-python",
   "name": "python",
   "nbconvert_exporter": "python",
   "pygments_lexer": "ipython3",
   "version": "3.9.16"
  }
 },
 "nbformat": 4,
 "nbformat_minor": 5
}
