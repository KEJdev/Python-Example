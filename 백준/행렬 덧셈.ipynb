{
 "cells": [
  {
   "cell_type": "markdown",
   "id": "cf565c43",
   "metadata": {},
   "source": [
    "[문제 링크](https://www.acmicpc.net/problem/2738)"
   ]
  },
  {
   "cell_type": "code",
   "execution_count": 122,
   "id": "e4297ac0",
   "metadata": {},
   "outputs": [
    {
     "name": "stdout",
     "output_type": "stream",
     "text": [
      "0 0 0\n",
      "0 0 0\n",
      "1 1 1\n",
      "2 2 2\n"
     ]
    }
   ],
   "source": [
    "N, M = list(map(int, input().split()))\n",
    "\n",
    "m_list = []\n",
    "\n",
    "for _ in range(2):\n",
    "    for n in range(N):\n",
    "        m_list.append(list(map(int, input().split())))\n",
    "        \n",
    "for n, m in zip(m_list[:N], m_list[-N:]):\n",
    "    result = []\n",
    "    for i in range(M):\n",
    "        result.append(n[i]+m[i])\n",
    "    print(*result)        "
   ]
  },
  {
   "cell_type": "markdown",
   "id": "cdacd2cd",
   "metadata": {},
   "source": [
    "조금 더 간결한 코드 "
   ]
  },
  {
   "cell_type": "code",
   "execution_count": 130,
   "id": "4d73c0d6",
   "metadata": {},
   "outputs": [
    {
     "name": "stdout",
     "output_type": "stream",
     "text": [
      "2 3\n",
      "0 0 0\n",
      "0 0 0\n",
      "1 1 1\n",
      "2 2 2\n",
      "1 1 1\n",
      "2 2 2\n"
     ]
    }
   ],
   "source": [
    "N, M = map(int, input().split())\n",
    "\n",
    "# 두 행렬을 저장할 리스트\n",
    "A = []\n",
    "B = []\n",
    "\n",
    "# 첫 번째 행렬 입력 받기\n",
    "for _ in range(N):\n",
    "    A.append(list(map(int, input().split())))\n",
    "\n",
    "# 두 번째 행렬 입력 받기\n",
    "for _ in range(N):\n",
    "    B.append(list(map(int, input().split())))\n",
    "\n",
    "# 두 행렬의 합 계산 및 출력\n",
    "for i in range(N):\n",
    "    result = [A[i][j] + B[i][j] for j in range(M)]\n",
    "    print(*result)"
   ]
  }
 ],
 "metadata": {
  "kernelspec": {
   "display_name": "Python 3 (ipykernel)",
   "language": "python",
   "name": "python3"
  },
  "language_info": {
   "codemirror_mode": {
    "name": "ipython",
    "version": 3
   },
   "file_extension": ".py",
   "mimetype": "text/x-python",
   "name": "python",
   "nbconvert_exporter": "python",
   "pygments_lexer": "ipython3",
   "version": "3.9.16"
  }
 },
 "nbformat": 4,
 "nbformat_minor": 5
}
