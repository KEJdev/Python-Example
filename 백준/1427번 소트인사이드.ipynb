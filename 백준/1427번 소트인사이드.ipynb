{
 "cells": [
  {
   "cell_type": "markdown",
   "id": "3b1e6f4e",
   "metadata": {},
   "source": [
    "[문제 링크](https://www.acmicpc.net/problem/1427)"
   ]
  },
  {
   "cell_type": "code",
   "execution_count": 35,
   "id": "22b1865e",
   "metadata": {},
   "outputs": [
    {
     "name": "stdout",
     "output_type": "stream",
     "text": [
      "999998999\n"
     ]
    }
   ],
   "source": [
    "n = str(input())"
   ]
  },
  {
   "cell_type": "code",
   "execution_count": 36,
   "id": "00f39c6f",
   "metadata": {},
   "outputs": [
    {
     "name": "stdout",
     "output_type": "stream",
     "text": [
      "999999998\n"
     ]
    }
   ],
   "source": [
    "temp = list(map(int, n))\n",
    "temp.sort(reverse=True)\n",
    "\n",
    "result = map(str, temp)\n",
    "print(''.join(result))"
   ]
  }
 ],
 "metadata": {
  "kernelspec": {
   "display_name": "Python 3",
   "language": "python",
   "name": "python3"
  },
  "language_info": {
   "codemirror_mode": {
    "name": "ipython",
    "version": 3
   },
   "file_extension": ".py",
   "mimetype": "text/x-python",
   "name": "python",
   "nbconvert_exporter": "python",
   "pygments_lexer": "ipython3",
   "version": "3.9.1"
  }
 },
 "nbformat": 4,
 "nbformat_minor": 5
}
