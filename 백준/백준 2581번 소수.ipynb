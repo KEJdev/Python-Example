{
 "cells": [
  {
   "cell_type": "markdown",
   "id": "b64f7cf3",
   "metadata": {},
   "source": [
    "[문제 링크](https://www.acmicpc.net/problem/2581)"
   ]
  },
  {
   "cell_type": "code",
   "execution_count": 96,
   "id": "c9d312a6",
   "metadata": {},
   "outputs": [
    {
     "name": "stdout",
     "output_type": "stream",
     "text": [
      "1\n",
      "2\n"
     ]
    }
   ],
   "source": [
    "num1 = int(input())\n",
    "num2 = int(input())"
   ]
  },
  {
   "cell_type": "code",
   "execution_count": 98,
   "id": "cfc5c664",
   "metadata": {},
   "outputs": [
    {
     "name": "stdout",
     "output_type": "stream",
     "text": [
      "2\n",
      "2\n"
     ]
    }
   ],
   "source": [
    "def is_prime(x):\n",
    "    if x < 2 : \n",
    "        return False \n",
    "    for i in range(2, int(x**0.5)+1):\n",
    "        if x%i == 0 :\n",
    "            return False \n",
    "    return True\n",
    "\n",
    "sum_result= []\n",
    "for i in range(num1, num2+1):\n",
    "    if is_prime(i) :\n",
    "        sum_result.append(i)   \n",
    "    \n",
    "if sum(sum_result) == 0:\n",
    "    print(-1)\n",
    "else :\n",
    "    print(sum(sum_result))\n",
    "    print(min(sum_result))"
   ]
  },
  {
   "cell_type": "code",
   "execution_count": null,
   "id": "88a01a4f",
   "metadata": {},
   "outputs": [],
   "source": []
  }
 ],
 "metadata": {
  "kernelspec": {
   "display_name": "Python 3 (ipykernel)",
   "language": "python",
   "name": "python3"
  },
  "language_info": {
   "codemirror_mode": {
    "name": "ipython",
    "version": 3
   },
   "file_extension": ".py",
   "mimetype": "text/x-python",
   "name": "python",
   "nbconvert_exporter": "python",
   "pygments_lexer": "ipython3",
   "version": "3.9.16"
  }
 },
 "nbformat": 4,
 "nbformat_minor": 5
}
