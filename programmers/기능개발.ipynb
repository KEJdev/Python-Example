{
 "cells": [
  {
   "cell_type": "markdown",
   "metadata": {},
   "source": [
    "* [문제 링크](https://programmers.co.kr/learn/courses/30/lessons/42586)  \n",
    "\n",
    "progresses [93,30,55]  \n",
    "speeds [1,30,5]  \n",
    "return [2,1]"
   ]
  },
  {
   "cell_type": "code",
   "execution_count": 49,
   "metadata": {},
   "outputs": [],
   "source": [
    "prog = [93,30,55]\n",
    "speed = [1,30,5]"
   ]
  },
  {
   "cell_type": "code",
   "execution_count": 20,
   "metadata": {},
   "outputs": [],
   "source": [
    "prog = [95, 90, 99, 99, 80, 99]\n",
    "speed = [1, 1, 1, 1, 1, 1]"
   ]
  },
  {
   "cell_type": "code",
   "execution_count": 2,
   "metadata": {},
   "outputs": [
    {
     "name": "stdout",
     "output_type": "stream",
     "text": [
      "[7, 3, 9]\n"
     ]
    }
   ],
   "source": [
    "import math\n",
    "\n",
    "def solution(progresses, speeds):\n",
    "    Q = []\n",
    "    for prog_val, speed_val in zip(progresses, speeds):\n",
    "        if len(Q)==0 or Q[-1][0] < math.ceil((100-prog_val)/speed_val):\n",
    "            Q.append([math.ceil((100-prog_val)/speed_val),1])\n",
    "        else:\n",
    "            Q[-1][1]+=1\n",
    "    return [q[1] for q in Q]"
   ]
  },
  {
   "cell_type": "code",
   "execution_count": null,
   "metadata": {},
   "outputs": [],
   "source": []
  }
 ],
 "metadata": {
  "interpreter": {
   "hash": "88afb576fd67d37a980a62a6a06e9eae3c36e3682af70ccc53c7557195de2ff4"
  },
  "kernelspec": {
   "display_name": "Python 3",
   "language": "python",
   "name": "python3"
  },
  "language_info": {
   "codemirror_mode": {
    "name": "ipython",
    "version": 3
   },
   "file_extension": ".py",
   "mimetype": "text/x-python",
   "name": "python",
   "nbconvert_exporter": "python",
   "pygments_lexer": "ipython3",
   "version": "3.9.1"
  }
 },
 "nbformat": 4,
 "nbformat_minor": 2
}
