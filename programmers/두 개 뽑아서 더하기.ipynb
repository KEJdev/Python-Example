{
 "cells": [
  {
   "cell_type": "markdown",
   "metadata": {},
   "source": [
    "* [문제 링크](https://programmers.co.kr/learn/courses/30/lessons/68644)\n",
    "\n",
    "numbers\t  \n",
    "[2,1,3,4,1]\n",
    "\n",
    "result  \n",
    "[2,3,4,5,6,7]"
   ]
  },
  {
   "cell_type": "code",
   "execution_count": 2,
   "metadata": {},
   "outputs": [],
   "source": [
    "num = [2,1,3,4,1]"
   ]
  },
  {
   "cell_type": "code",
   "execution_count": null,
   "metadata": {},
   "outputs": [],
   "source": [
    "def solution(numbers):\n",
    "    numbers.sort()\n",
    "    answer = []\n",
    "    lens = len(numbers)\n",
    "    for i in range(len(numbers)):\n",
    "        lens -= 1\n",
    "        for j in range(lens):\n",
    "            answer.append(numbers[i]+numbers[-j-1])\n",
    "    answer = sorted(set(answer))            )\n",
    "    return answer"
   ]
  }
 ],
 "metadata": {
  "kernelspec": {
   "display_name": "Python 3",
   "language": "python",
   "name": "python3"
  },
  "language_info": {
   "codemirror_mode": {
    "name": "ipython",
    "version": 3
   },
   "file_extension": ".py",
   "mimetype": "text/x-python",
   "name": "python",
   "nbconvert_exporter": "python",
   "pygments_lexer": "ipython3",
   "version": "3.7.3"
  }
 },
 "nbformat": 4,
 "nbformat_minor": 2
}
