{
 "cells": [
  {
   "cell_type": "markdown",
   "metadata": {},
   "source": [
    "[문제 링크](https://programmers.co.kr/learn/courses/30/lessons/12901?language=python3)\n",
    "\n",
    "2016년 a월 b일은 무슨요일인가 ?"
   ]
  },
  {
   "cell_type": "code",
   "execution_count": 31,
   "metadata": {},
   "outputs": [
    {
     "name": "stdout",
     "output_type": "stream",
     "text": [
      "SUN\n"
     ]
    }
   ],
   "source": [
    "def solution(a, b):\n",
    "\n",
    "    day2 = [\"SUN\" ,\"MON\" ,\"TUE\" ,\"WED\",\"THU\" ,\"FRI\" ,\"SAT\"]\n",
    "    day = [\"FRI\", \"MON\", \"TUE\", \"FRI\" , \"SUN\",\"WED\", \"FRI\", \"MON\",\"THU\", \"SAT\", \"TUE\", \"THU\"]\n",
    "\n",
    "    df = day2.index(day[a-1])+b%7-1\n",
    "\n",
    "    if 6 < df :\n",
    "        df =  abs(6 - (day2.index(day[a-1])+b%7-1)) \n",
    "        answer = day2[df-1]\n",
    "    else:\n",
    "        answer = day2[df]\n",
    "    return answer"
   ]
  }
 ],
 "metadata": {
  "kernelspec": {
   "display_name": "Python 3",
   "language": "python",
   "name": "python3"
  },
  "language_info": {
   "codemirror_mode": {
    "name": "ipython",
    "version": 3
   },
   "file_extension": ".py",
   "mimetype": "text/x-python",
   "name": "python",
   "nbconvert_exporter": "python",
   "pygments_lexer": "ipython3",
   "version": "3.7.2"
  }
 },
 "nbformat": 4,
 "nbformat_minor": 2
}
