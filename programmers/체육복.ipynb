{
 "cells": [
  {
   "cell_type": "markdown",
   "metadata": {},
   "source": [
    "* [문제 링크](https://programmers.co.kr/learn/courses/30/lessons/42862?language=python3)  \n",
    "\n",
    "n = 5  \n",
    "lost = [2, 4]  \n",
    "reserve = [1, 3, 5]  \n",
    "return = 5"
   ]
  },
  {
   "cell_type": "code",
   "execution_count": 384,
   "metadata": {},
   "outputs": [],
   "source": [
    "def solution(n, lost, reserve):\n",
    "    reallost = set(lost) - set(reserve)\n",
    "    realreser = set(reserve) - set(lost)\n",
    "    for data in realreser:\n",
    "        if data-1 in reallost:\n",
    "            reallost.remove(data-1)\n",
    "        elif data+1 in reallost:\n",
    "            reallost.remove(data+1)\n",
    "    return n - len(reallost)"
   ]
  }
 ],
 "metadata": {
  "kernelspec": {
   "display_name": "Python 3",
   "language": "python",
   "name": "python3"
  },
  "language_info": {
   "codemirror_mode": {
    "name": "ipython",
    "version": 3
   },
   "file_extension": ".py",
   "mimetype": "text/x-python",
   "name": "python",
   "nbconvert_exporter": "python",
   "pygments_lexer": "ipython3",
   "version": "3.7.3"
  }
 },
 "nbformat": 4,
 "nbformat_minor": 2
}
