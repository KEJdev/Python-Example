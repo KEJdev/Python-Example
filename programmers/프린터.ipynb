{
 "cells": [
  {
   "cell_type": "markdown",
   "id": "91f0fd10",
   "metadata": {},
   "source": [
    "* [문제링크](https://programmers.co.kr/learn/courses/30/lessons/42587)  \n",
    "priorities : [2,1,3,2]  \n",
    "location : [2]  \n",
    "return 1"
   ]
  },
  {
   "cell_type": "code",
   "execution_count": 346,
   "id": "ce733bc4",
   "metadata": {},
   "outputs": [],
   "source": [
    "from operator import itemgetter"
   ]
  },
  {
   "cell_type": "code",
   "execution_count": 405,
   "id": "1127ef38",
   "metadata": {},
   "outputs": [],
   "source": [
    "priorities = [2,1,3,2]\n",
    "location = 2 # return 1"
   ]
  },
  {
   "cell_type": "code",
   "execution_count": 470,
   "id": "4bc319c5",
   "metadata": {},
   "outputs": [],
   "source": [
    "priorities = [1,1,9,1,1,1]\n",
    "location = 0 # return 5"
   ]
  },
  {
   "cell_type": "code",
   "execution_count": 449,
   "id": "5cbcd6bb",
   "metadata": {},
   "outputs": [],
   "source": [
    "priorities = [2, 4, 8, 2, 9, 3, 3]\n",
    "location = 2 # return 2"
   ]
  },
  {
   "cell_type": "code",
   "execution_count": 486,
   "id": "f066191b",
   "metadata": {},
   "outputs": [],
   "source": [
    "priorities = [1, 1, 1, 1, 1, 1] \n",
    "location = 3 # return 4"
   ]
  },
  {
   "cell_type": "code",
   "execution_count": 491,
   "id": "6a339a91",
   "metadata": {},
   "outputs": [],
   "source": [
    "priorities = [2, 3, 3, 2, 9, 3, 3]\n",
    "location = 3 # 6 "
   ]
  },
  {
   "cell_type": "code",
   "execution_count": 220,
   "id": "396868c8",
   "metadata": {},
   "outputs": [],
   "source": [
    "def solution(priorities, location):\n",
    "    temp, result = [],[]\n",
    "    for idx, val in enumerate(priorities) :\n",
    "        temp.append([val, idx])\n",
    "\n",
    "    for i in range(len(priorities)):\n",
    "        max_idx = priorities.index(max(priorities))\n",
    "        result.append(temp[max_idx])\n",
    "\n",
    "        priorities.pop(max_idx)\n",
    "        temp.pop(max_idx)\n",
    "\n",
    "        priorities = priorities[max_idx:] + priorities[:max_idx]\n",
    "        temp = temp[max_idx:] + temp[:max_idx]\n",
    "\n",
    "    result.extend(temp)\n",
    "\n",
    "    for idx, val in enumerate(result):\n",
    "        if val[1]==location:\n",
    "            return idx+1"
   ]
  }
 ],
 "metadata": {
  "kernelspec": {
   "display_name": "Python 3",
   "language": "python",
   "name": "python3"
  },
  "language_info": {
   "codemirror_mode": {
    "name": "ipython",
    "version": 3
   },
   "file_extension": ".py",
   "mimetype": "text/x-python",
   "name": "python",
   "nbconvert_exporter": "python",
   "pygments_lexer": "ipython3",
   "version": "3.9.1"
  }
 },
 "nbformat": 4,
 "nbformat_minor": 5
}
