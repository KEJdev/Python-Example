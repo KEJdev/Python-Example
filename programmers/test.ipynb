{
 "cells": [
  {
   "cell_type": "markdown",
   "metadata": {},
   "source": [
    "프로그래머스 - [베스트 앨범](https://programmers.co.kr/learn/courses/30/lessons/42579)"
   ]
  },
  {
   "cell_type": "code",
   "execution_count": 194,
   "metadata": {},
   "outputs": [],
   "source": [
    "genres = [\"classic\", \"pop\", \"classic\", \"classic\", \"pop\"]\n",
    "plays = [500, 600, 150, 800, 2500]\n",
    "result = [4, 1, 3, 0]"
   ]
  },
  {
   "cell_type": "code",
   "execution_count": 195,
   "metadata": {},
   "outputs": [],
   "source": [
    "temp = {}\n",
    "for val, key in zip(plays, genres):    \n",
    "    if temp.get(key):\n",
    "        temp[key].append(val)\n",
    "    else:\n",
    "        temp[key] = [val]"
   ]
  },
  {
   "cell_type": "code",
   "execution_count": 201,
   "metadata": {},
   "outputs": [],
   "source": [
    "key_dict = {}\n",
    "for k in temp:\n",
    "    key_dict[k] = sum(temp[k])"
   ]
  },
  {
   "cell_type": "code",
   "execution_count": 220,
   "metadata": {},
   "outputs": [
    {
     "data": {
      "text/plain": [
       "[('pop', 3100), ('classic', 1450)]"
      ]
     },
     "execution_count": 220,
     "metadata": {},
     "output_type": "execute_result"
    }
   ],
   "source": [
    "sorted(key_dict.items(), key = lambda item: item[1], reverse=True)"
   ]
  },
  {
   "cell_type": "code",
   "execution_count": 231,
   "metadata": {},
   "outputs": [],
   "source": [
    "test = dict(sorted(temp.items(), key = lambda item: item[1], reverse=True))"
   ]
  },
  {
   "cell_type": "code",
   "execution_count": 281,
   "metadata": {},
   "outputs": [],
   "source": [
    "df = []\n",
    "for k in test:\n",
    "    df_val = sorted(test[k], reverse=True)\n",
    "    if len(df_val) != 2:\n",
    "        df.extend(df_val[:2])\n",
    "    else:\n",
    "        df.extend(df_val)"
   ]
  },
  {
   "cell_type": "code",
   "execution_count": 282,
   "metadata": {},
   "outputs": [
    {
     "data": {
      "text/plain": [
       "[2500, 600, 800, 500]"
      ]
     },
     "execution_count": 282,
     "metadata": {},
     "output_type": "execute_result"
    }
   ],
   "source": [
    "df"
   ]
  },
  {
   "cell_type": "code",
   "execution_count": 283,
   "metadata": {},
   "outputs": [
    {
     "name": "stdout",
     "output_type": "stream",
     "text": [
      "4\n",
      "1\n",
      "3\n",
      "0\n"
     ]
    }
   ],
   "source": [
    "for idx in df:\n",
    "    print(plays.index(idx))"
   ]
  },
  {
   "cell_type": "code",
   "execution_count": 397,
   "metadata": {},
   "outputs": [],
   "source": [
    "def solution(genres, plays):\n",
    "    temp ,key_dict = {}, {}\n",
    "    df,answer = [],[]\n",
    "    \n",
    "    for val, key in zip(plays, genres):    \n",
    "        if temp.get(key):\n",
    "            temp[key].append(val)\n",
    "        else:\n",
    "            temp[key] = [val]\n",
    "\n",
    "    for k in temp:\n",
    "        key_dict[k] = sum(temp[k])\n",
    "        \n",
    "    test = dict(sorted(key_dict.items(), key = lambda item: item[1], reverse=True))\n",
    "\n",
    "    for k in test:\n",
    "        df_val = sorted(temp[k], reverse=True)\n",
    "        if len(df_val) != 2:\n",
    "            df.extend(df_val[:2])\n",
    "        else:\n",
    "            df.extend(df_val)\n",
    "\n",
    "    for idx, val in enumerate(df):\n",
    "        if len(set(df)) == 1:\n",
    "            print(idx)\n",
    "            answer.append(idx)\n",
    "        else:\n",
    "            answer.append(plays.index(val))\n",
    "        \n",
    "    return answer"
   ]
  },
  {
   "cell_type": "code",
   "execution_count": 429,
   "metadata": {},
   "outputs": [],
   "source": [
    "def solution(genres, plays):\n",
    "    temp ,key_dict = {}, {}\n",
    "    df,answer = [],[]\n",
    "    \n",
    "    for val, key in zip(plays, genres):    \n",
    "        if temp.get(key):\n",
    "            temp[key].append(val)\n",
    "        else:\n",
    "            temp[key] = [val]\n",
    "\n",
    "    for k in temp:\n",
    "        key_dict[k] = sum(temp[k])\n",
    "        \n",
    "    test = dict(sorted(key_dict.items(), key = lambda item: item[1], reverse=True))\n",
    "\n",
    "    for k in test:\n",
    "        df_val = sorted(temp[k], reverse=True)\n",
    "        if len(df_val) != 2:\n",
    "            df.extend(df_val[:2])\n",
    "        else:\n",
    "            df.extend(df_val)\n",
    "    \n",
    "    for idx in df:\n",
    "        if plays.index(idx) in answer :\n",
    "            print(answer)\n",
    "            \n",
    "            \n",
    "            answer.append(plays[plays[plays.index(idx)]:].index(idx))\n",
    "        else:\n",
    "            answer.append(plays.index(idx))\n",
    "    return answer"
   ]
  },
  {
   "cell_type": "code",
   "execution_count": null,
   "metadata": {},
   "outputs": [],
   "source": []
  },
  {
   "cell_type": "code",
   "execution_count": 430,
   "metadata": {},
   "outputs": [
    {
     "name": "stdout",
     "output_type": "stream",
     "text": [
      "False\n",
      "True\n",
      "[0]\n",
      "True\n",
      "[0, 0]\n",
      "True\n",
      "[0, 0, 0]\n"
     ]
    },
    {
     "data": {
      "text/plain": [
       "[0, 0, 0, 0]"
      ]
     },
     "execution_count": 430,
     "metadata": {},
     "output_type": "execute_result"
    }
   ],
   "source": [
    "solution(genres1, plays1)"
   ]
  },
  {
   "cell_type": "code",
   "execution_count": 388,
   "metadata": {},
   "outputs": [],
   "source": [
    "genres1 = [\"A\", \"A\", \"B\", \"A\", \"B\", \"B\", \"A\", \"A\", \"A\", \"A\"]"
   ]
  },
  {
   "cell_type": "code",
   "execution_count": 387,
   "metadata": {},
   "outputs": [],
   "source": [
    "plays1 = [1, 1, 1, 1, 1, 1, 1, 1, 1, 1, 1, 1]"
   ]
  },
  {
   "cell_type": "code",
   "execution_count": null,
   "metadata": {},
   "outputs": [],
   "source": []
  },
  {
   "cell_type": "code",
   "execution_count": null,
   "metadata": {},
   "outputs": [],
   "source": [
    "[0, 1, 2, 4]"
   ]
  },
  {
   "cell_type": "code",
   "execution_count": 296,
   "metadata": {},
   "outputs": [
    {
     "data": {
      "text/plain": [
       "[5, 1, 4, 7, 3, 0, 6]"
      ]
     },
     "execution_count": 296,
     "metadata": {},
     "output_type": "execute_result"
    }
   ],
   "source": [
    "genres1 =[\"classic\", \"pop\", \"classic\", \"classic\",\"jazz\",\"pop\", \"Rock\", \"jazz\"]\n",
    "plays1 =[500, 600, 150, 800, 1100, 2500, 100, 1000]\n",
    "[5, 1, 4, 7, 3, 0, 6]"
   ]
  },
  {
   "cell_type": "code",
   "execution_count": 336,
   "metadata": {},
   "outputs": [],
   "source": [
    "temp = {}\n",
    "for val, key in zip(plays1, genres1):    \n",
    "    if temp.get(key):\n",
    "        temp[key].append(val)\n",
    "    else:\n",
    "        temp[key] = [val]"
   ]
  },
  {
   "cell_type": "code",
   "execution_count": 337,
   "metadata": {},
   "outputs": [
    {
     "data": {
      "text/plain": [
       "{'A': [1, 1, 1, 1, 1, 1, 1], 'B': [1, 1, 1]}"
      ]
     },
     "execution_count": 337,
     "metadata": {},
     "output_type": "execute_result"
    }
   ],
   "source": [
    "temp"
   ]
  },
  {
   "cell_type": "code",
   "execution_count": 339,
   "metadata": {},
   "outputs": [],
   "source": [
    "key_dict = {}\n",
    "for k in temp:\n",
    "    key_dict[k] = sum(temp[k])"
   ]
  },
  {
   "cell_type": "code",
   "execution_count": 324,
   "metadata": {},
   "outputs": [
    {
     "data": {
      "text/plain": [
       "{'classic': 1450, 'pop': 3100, 'jazz': 2100, 'Rock': 100}"
      ]
     },
     "execution_count": 324,
     "metadata": {},
     "output_type": "execute_result"
    }
   ],
   "source": [
    "key_dict"
   ]
  },
  {
   "cell_type": "code",
   "execution_count": 340,
   "metadata": {},
   "outputs": [],
   "source": [
    "test = dict(sorted(key_dict.items(), key = lambda item: item[1], reverse=True))"
   ]
  },
  {
   "cell_type": "code",
   "execution_count": 341,
   "metadata": {},
   "outputs": [
    {
     "data": {
      "text/plain": [
       "{'A': 7, 'B': 3}"
      ]
     },
     "execution_count": 341,
     "metadata": {},
     "output_type": "execute_result"
    }
   ],
   "source": [
    "test"
   ]
  },
  {
   "cell_type": "code",
   "execution_count": 342,
   "metadata": {},
   "outputs": [
    {
     "data": {
      "text/plain": [
       "dict_keys(['A', 'B'])"
      ]
     },
     "execution_count": 342,
     "metadata": {},
     "output_type": "execute_result"
    }
   ],
   "source": [
    "test.keys()"
   ]
  },
  {
   "cell_type": "code",
   "execution_count": 343,
   "metadata": {},
   "outputs": [
    {
     "data": {
      "text/plain": [
       "dict_values([7, 3])"
      ]
     },
     "execution_count": 343,
     "metadata": {},
     "output_type": "execute_result"
    }
   ],
   "source": [
    "test.values()"
   ]
  },
  {
   "cell_type": "code",
   "execution_count": 344,
   "metadata": {},
   "outputs": [],
   "source": [
    "dict_key = {}\n",
    "for k in temp:\n",
    "    dict_key[k] = sum(temp[k])"
   ]
  },
  {
   "cell_type": "code",
   "execution_count": 345,
   "metadata": {},
   "outputs": [
    {
     "data": {
      "text/plain": [
       "{'A': 7, 'B': 3}"
      ]
     },
     "execution_count": 345,
     "metadata": {},
     "output_type": "execute_result"
    }
   ],
   "source": [
    "dict(sorted(dict_key.items(), key = lambda item: item[1], reverse=True))"
   ]
  },
  {
   "cell_type": "code",
   "execution_count": null,
   "metadata": {},
   "outputs": [],
   "source": []
  },
  {
   "cell_type": "code",
   "execution_count": null,
   "metadata": {},
   "outputs": [],
   "source": []
  },
  {
   "cell_type": "code",
   "execution_count": null,
   "metadata": {},
   "outputs": [],
   "source": []
  },
  {
   "cell_type": "code",
   "execution_count": null,
   "metadata": {},
   "outputs": [],
   "source": []
  },
  {
   "cell_type": "code",
   "execution_count": null,
   "metadata": {},
   "outputs": [],
   "source": []
  },
  {
   "cell_type": "code",
   "execution_count": null,
   "metadata": {},
   "outputs": [],
   "source": []
  },
  {
   "cell_type": "code",
   "execution_count": null,
   "metadata": {},
   "outputs": [],
   "source": []
  },
  {
   "cell_type": "code",
   "execution_count": null,
   "metadata": {},
   "outputs": [],
   "source": []
  }
 ],
 "metadata": {
  "kernelspec": {
   "display_name": "Python 3",
   "language": "python",
   "name": "python3"
  },
  "language_info": {
   "codemirror_mode": {
    "name": "ipython",
    "version": 3
   },
   "file_extension": ".py",
   "mimetype": "text/x-python",
   "name": "python",
   "nbconvert_exporter": "python",
   "pygments_lexer": "ipython3",
   "version": "3.8.5"
  }
 },
 "nbformat": 4,
 "nbformat_minor": 2
}
