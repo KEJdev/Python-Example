{
 "cells": [
  {
   "cell_type": "markdown",
   "metadata": {},
   "source": [
    "프로그래머스 - [베스트 앨범](https://programmers.co.kr/learn/courses/30/lessons/42579)"
   ]
  },
  {
   "cell_type": "code",
   "execution_count": 448,
   "metadata": {},
   "outputs": [],
   "source": [
    "genres = [\"classic\", \"pop\", \"classic\", \"classic\", \"pop\"]\n",
    "plays = [500, 600, 150, 800, 2500]\n",
    "result = [4, 1, 3, 0]"
   ]
  },
  {
   "cell_type": "code",
   "execution_count": 482,
   "metadata": {},
   "outputs": [
    {
     "name": "stdout",
     "output_type": "stream",
     "text": [
      "{'pop': [2500, 600], 'classic': [800, 500]}\n"
     ]
    }
   ],
   "source": [
    "temp = {}\n",
    "for val, key in zip(plays, genres):    \n",
    "    if temp.get(key):\n",
    "        temp[key].append(val)\n",
    "    else:\n",
    "        temp[key] = [val]\n",
    "        \n",
    "sort_temp = dict(sorted(temp.items(), key = lambda item: item[1], reverse=True))\n",
    "\n",
    "for k in sort_temp:\n",
    "    df_val = sorted(sort_temp[k], reverse=True)\n",
    "    if len(sort_temp[key]) >= 2:\n",
    "        sort_temp[k] = df_val[:2]\n",
    "    else:\n",
    "        pass\n",
    "print(sort_temp)        "
   ]
  },
  {
   "cell_type": "code",
   "execution_count": null,
   "metadata": {},
   "outputs": [],
   "source": []
  },
  {
   "cell_type": "code",
   "execution_count": null,
   "metadata": {},
   "outputs": [],
   "source": []
  },
  {
   "cell_type": "code",
   "execution_count": null,
   "metadata": {},
   "outputs": [],
   "source": []
  },
  {
   "cell_type": "code",
   "execution_count": null,
   "metadata": {},
   "outputs": [],
   "source": []
  }
 ],
 "metadata": {
  "kernelspec": {
   "display_name": "Python 3",
   "language": "python",
   "name": "python3"
  },
  "language_info": {
   "codemirror_mode": {
    "name": "ipython",
    "version": 3
   },
   "file_extension": ".py",
   "mimetype": "text/x-python",
   "name": "python",
   "nbconvert_exporter": "python",
   "pygments_lexer": "ipython3",
   "version": "3.8.5"
  }
 },
 "nbformat": 4,
 "nbformat_minor": 2
}
