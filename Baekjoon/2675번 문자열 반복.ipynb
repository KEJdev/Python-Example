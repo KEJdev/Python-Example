{
 "cells": [
  {
   "cell_type": "markdown",
   "id": "2dc247f7",
   "metadata": {},
   "source": [
    "[문제 링크](https://www.acmicpc.net/problem/2675)"
   ]
  },
  {
   "cell_type": "code",
   "execution_count": 16,
   "id": "e23729d3",
   "metadata": {},
   "outputs": [
    {
     "name": "stdout",
     "output_type": "stream",
     "text": [
      "1\n"
     ]
    }
   ],
   "source": [
    "cnt = int(input())"
   ]
  },
  {
   "cell_type": "code",
   "execution_count": 23,
   "id": "fee4527d",
   "metadata": {},
   "outputs": [
    {
     "name": "stdout",
     "output_type": "stream",
     "text": [
      "3 AAA\n",
      "AAAAAAAAA\n"
     ]
    }
   ],
   "source": [
    "for _ in range(cnt):\n",
    "    temp = list(map(str, input().split(' ')))\n",
    "    result = []\n",
    "    for val in temp[1]:\n",
    "        result.append(int(temp[0])*val)\n",
    "    print(\"\".join(result))"
   ]
  }
 ],
 "metadata": {
  "kernelspec": {
   "display_name": "Python 3 (ipykernel)",
   "language": "python",
   "name": "python3"
  },
  "language_info": {
   "codemirror_mode": {
    "name": "ipython",
    "version": 3
   },
   "file_extension": ".py",
   "mimetype": "text/x-python",
   "name": "python",
   "nbconvert_exporter": "python",
   "pygments_lexer": "ipython3",
   "version": "3.9.7"
  }
 },
 "nbformat": 4,
 "nbformat_minor": 5
}
