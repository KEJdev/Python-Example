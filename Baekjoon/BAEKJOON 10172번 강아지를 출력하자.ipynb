{
 "cells": [
  {
   "cell_type": "markdown",
   "metadata": {},
   "source": [
    "## BAEKJOON 10172번 "
   ]
  },
  {
   "cell_type": "markdown",
   "metadata": {},
   "source": [
    "### 문제\n",
    "* 아래와 같이 강아지를 출력하자 \n",
    "\n",
    "### 출력 \n",
    "\n",
    "'''\n",
    "|\\_/|  \n",
    "|q p|   /}  \n",
    "( 0 )\"\"\"\\  \n",
    "|\"^\"`    |  \n",
    "||_/=\\\\__|  \n",
    "'''"
   ]
  },
  {
   "cell_type": "code",
   "execution_count": 1,
   "metadata": {},
   "outputs": [
    {
     "name": "stdout",
     "output_type": "stream",
     "text": [
      "|\\_/|\n",
      "|q p|   /}\n",
      "( 0 )\"\"\"\\\n",
      "|\"^\"`    |\n",
      "||_/=\\\\__|\n"
     ]
    }
   ],
   "source": [
    "print('|\\\\_/|\\n''|q p|   /}\\n''( 0 )\"\"\"\\\\\\n''|\"^\"`    |\\n''||_/=\\\\\\\\__|')"
   ]
  }
 ],
 "metadata": {
  "kernelspec": {
   "display_name": "Python 3",
   "language": "python",
   "name": "python3"
  },
  "language_info": {
   "codemirror_mode": {
    "name": "ipython",
    "version": 3
   },
   "file_extension": ".py",
   "mimetype": "text/x-python",
   "name": "python",
   "nbconvert_exporter": "python",
   "pygments_lexer": "ipython3",
   "version": "3.7.3"
  }
 },
 "nbformat": 4,
 "nbformat_minor": 2
}
