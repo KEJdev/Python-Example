{
 "cells": [
  {
   "cell_type": "markdown",
   "id": "73dc3dcd",
   "metadata": {},
   "source": [
    "[문제 링크](https://www.acmicpc.net/problem/10807)"
   ]
  },
  {
   "cell_type": "code",
   "execution_count": 2,
   "id": "151adda9",
   "metadata": {},
   "outputs": [
    {
     "name": "stdout",
     "output_type": "stream",
     "text": [
      "11\n"
     ]
    }
   ],
   "source": [
    "num = int(input())\n",
    "num_list= input().split(' ')\n",
    "idx = int(input())\n",
    "print(num_list.count(str(idx)))"
   ]
  },
  {
   "cell_type": "code",
   "execution_count": null,
   "id": "7406182e",
   "metadata": {},
   "outputs": [],
   "source": []
  }
 ],
 "metadata": {
  "kernelspec": {
   "display_name": "Python 3",
   "language": "python",
   "name": "python3"
  },
  "language_info": {
   "codemirror_mode": {
    "name": "ipython",
    "version": 3
   },
   "file_extension": ".py",
   "mimetype": "text/x-python",
   "name": "python",
   "nbconvert_exporter": "python",
   "pygments_lexer": "ipython3",
   "version": "3.9.1"
  }
 },
 "nbformat": 4,
 "nbformat_minor": 5
}
