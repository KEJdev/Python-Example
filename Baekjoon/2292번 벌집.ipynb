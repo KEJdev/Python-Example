{
 "cells": [
  {
   "cell_type": "markdown",
   "metadata": {},
   "source": [
    "[문제 링크](https://console.jumpcloud.com/)"
   ]
  },
  {
   "cell_type": "code",
   "execution_count": 203,
   "metadata": {},
   "outputs": [
    {
     "name": "stdout",
     "output_type": "stream",
     "text": [
      "2\n"
     ]
    }
   ],
   "source": [
    "num = int(input())\n",
    "layer,sum_temp = 1,0\n",
    "\n",
    "if num == 1:\n",
    "    print(num)\n",
    "else:    \n",
    "    for i in range(num):\n",
    "        layer += 1\n",
    "        sum_temp=2+3*(layer)*(layer-1)  \n",
    "        if sum_temp > num:\n",
    "            break\n",
    "\n",
    "    print(layer)"
   ]
  }
 ],
 "metadata": {
  "interpreter": {
   "hash": "88afb576fd67d37a980a62a6a06e9eae3c36e3682af70ccc53c7557195de2ff4"
  },
  "kernelspec": {
   "display_name": "Python 3.9.1 ('oai-lab')",
   "language": "python",
   "name": "python3"
  },
  "language_info": {
   "codemirror_mode": {
    "name": "ipython",
    "version": 3
   },
   "file_extension": ".py",
   "mimetype": "text/x-python",
   "name": "python",
   "nbconvert_exporter": "python",
   "pygments_lexer": "ipython3",
   "version": "3.9.1"
  },
  "orig_nbformat": 4
 },
 "nbformat": 4,
 "nbformat_minor": 2
}
