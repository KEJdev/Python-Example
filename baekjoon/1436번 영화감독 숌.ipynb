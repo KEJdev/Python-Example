{
 "cells": [
  {
   "cell_type": "markdown",
   "id": "47c04d4b",
   "metadata": {},
   "source": [
    "[문제 링크](https://www.acmicpc.net/problem/1436)"
   ]
  },
  {
   "cell_type": "code",
   "execution_count": 104,
   "id": "320e321b",
   "metadata": {},
   "outputs": [
    {
     "name": "stdout",
     "output_type": "stream",
     "text": [
      "6\n",
      "5666\n"
     ]
    }
   ],
   "source": [
    "num = int(input())\n",
    "temp, cnt = 0,0\n",
    "\n",
    "while cnt <= num:\n",
    "    temp+=1\n",
    "    if '666' in str(temp):\n",
    "        cnt += 1\n",
    "        \n",
    "    if cnt == num:\n",
    "        print(temp)\n",
    "        break"
   ]
  },
  {
   "cell_type": "code",
   "execution_count": null,
   "id": "0a4074ff",
   "metadata": {},
   "outputs": [],
   "source": []
  }
 ],
 "metadata": {
  "kernelspec": {
   "display_name": "Python 3",
   "language": "python",
   "name": "python3"
  },
  "language_info": {
   "codemirror_mode": {
    "name": "ipython",
    "version": 3
   },
   "file_extension": ".py",
   "mimetype": "text/x-python",
   "name": "python",
   "nbconvert_exporter": "python",
   "pygments_lexer": "ipython3",
   "version": "3.9.1"
  }
 },
 "nbformat": 4,
 "nbformat_minor": 5
}
