{
 "cells": [
  {
   "cell_type": "markdown",
   "id": "9c0c4025",
   "metadata": {},
   "source": [
    "[문제 링크](https://www.acmicpc.net/problem/11720)"
   ]
  },
  {
   "cell_type": "code",
   "execution_count": 4,
   "id": "7353633f",
   "metadata": {},
   "outputs": [
    {
     "name": "stdout",
     "output_type": "stream",
     "text": [
      "5\n",
      "54321\n"
     ]
    }
   ],
   "source": [
    "cnt = int(input())\n",
    "num = str(input())"
   ]
  },
  {
   "cell_type": "code",
   "execution_count": 7,
   "id": "d67c2128",
   "metadata": {},
   "outputs": [],
   "source": [
    "result = 0\n",
    "for idx in range(cnt):\n",
    "    result += int(num[idx])"
   ]
  },
  {
   "cell_type": "code",
   "execution_count": 8,
   "id": "00c87908",
   "metadata": {},
   "outputs": [
    {
     "data": {
      "text/plain": [
       "15"
      ]
     },
     "execution_count": 8,
     "metadata": {},
     "output_type": "execute_result"
    }
   ],
   "source": [
    "result"
   ]
  }
 ],
 "metadata": {
  "kernelspec": {
   "display_name": "Python 3 (ipykernel)",
   "language": "python",
   "name": "python3"
  },
  "language_info": {
   "codemirror_mode": {
    "name": "ipython",
    "version": 3
   },
   "file_extension": ".py",
   "mimetype": "text/x-python",
   "name": "python",
   "nbconvert_exporter": "python",
   "pygments_lexer": "ipython3",
   "version": "3.9.7"
  }
 },
 "nbformat": 4,
 "nbformat_minor": 5
}
