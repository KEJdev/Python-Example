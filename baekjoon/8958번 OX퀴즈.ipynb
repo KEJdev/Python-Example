{
 "cells": [
  {
   "cell_type": "markdown",
   "id": "233556a3",
   "metadata": {},
   "source": [
    "[문제 링크](https://www.acmicpc.net/problem/8958)"
   ]
  },
  {
   "cell_type": "code",
   "execution_count": 28,
   "id": "0d30e15e",
   "metadata": {},
   "outputs": [
    {
     "name": "stdout",
     "output_type": "stream",
     "text": [
      "5\n"
     ]
    }
   ],
   "source": [
    "cnt = int(input())"
   ]
  },
  {
   "cell_type": "code",
   "execution_count": 29,
   "id": "9a07f0dc",
   "metadata": {},
   "outputs": [
    {
     "name": "stdout",
     "output_type": "stream",
     "text": [
      "OOXXOXXOOO\n",
      "10\n",
      "OOXXOOXXOO\n",
      "9\n",
      "OXOXOXOXOXOXOX\n",
      "7\n",
      "OOOOOOOOOO\n",
      "55\n",
      "OOOOXOOOOXOOOOX\n",
      "30\n"
     ]
    }
   ],
   "source": [
    "for _ in range(cnt):\n",
    "    ox = str(input())\n",
    "    temp = [0]*len(ox)\n",
    "    cnt = 0 \n",
    "    \n",
    "    for idx,val in enumerate(ox):\n",
    "        if val == 'O':\n",
    "            temp[idx] = (1+cnt)\n",
    "            cnt += 1\n",
    "        else:\n",
    "            cnt = 0\n",
    "    \n",
    "    print(sum(temp))\n",
    "    "
   ]
  }
 ],
 "metadata": {
  "kernelspec": {
   "display_name": "Python 3 (ipykernel)",
   "language": "python",
   "name": "python3"
  },
  "language_info": {
   "codemirror_mode": {
    "name": "ipython",
    "version": 3
   },
   "file_extension": ".py",
   "mimetype": "text/x-python",
   "name": "python",
   "nbconvert_exporter": "python",
   "pygments_lexer": "ipython3",
   "version": "3.9.7"
  }
 },
 "nbformat": 4,
 "nbformat_minor": 5
}
